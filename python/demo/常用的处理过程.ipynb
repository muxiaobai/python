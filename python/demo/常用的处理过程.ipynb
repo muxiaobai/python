{
 "cells": [
  {
   "cell_type": "markdown",
   "metadata": {},
   "source": [
    "# 常用的模型汇总"
   ]
  },
  {
   "cell_type": "markdown",
   "metadata": {},
   "source": [
    "### 1.处理日期信息\n",
    "### 2.处理文本数据\n",
    "### 3.加载数据\n",
    "### 4.保存模型或数据"
   ]
  },
  {
   "cell_type": "code",
   "execution_count": 20,
   "metadata": {},
   "outputs": [],
   "source": [
    "import numpy as np\n",
    "import pandas as pd\n"
   ]
  },
  {
   "cell_type": "code",
   "execution_count": 1,
   "metadata": {},
   "outputs": [
    {
     "data": {
      "text/plain": [
       "['',\n",
       " 'E:\\\\ProgramData\\\\Anaconda3\\\\envs\\\\tensorflow\\\\python35.zip',\n",
       " 'E:\\\\ProgramData\\\\Anaconda3\\\\envs\\\\tensorflow\\\\DLLs',\n",
       " 'E:\\\\ProgramData\\\\Anaconda3\\\\envs\\\\tensorflow\\\\lib',\n",
       " 'E:\\\\ProgramData\\\\Anaconda3\\\\envs\\\\tensorflow',\n",
       " 'E:\\\\ProgramData\\\\Anaconda3\\\\envs\\\\tensorflow\\\\lib\\\\site-packages',\n",
       " 'E:\\\\ProgramData\\\\Anaconda3\\\\envs\\\\tensorflow\\\\lib\\\\site-packages\\\\win32',\n",
       " 'E:\\\\ProgramData\\\\Anaconda3\\\\envs\\\\tensorflow\\\\lib\\\\site-packages\\\\win32\\\\lib',\n",
       " 'E:\\\\ProgramData\\\\Anaconda3\\\\envs\\\\tensorflow\\\\lib\\\\site-packages\\\\Pythonwin',\n",
       " 'E:\\\\ProgramData\\\\Anaconda3\\\\envs\\\\tensorflow\\\\lib\\\\site-packages\\\\IPython\\\\extensions',\n",
       " 'C:\\\\Users\\\\Administrator\\\\.ipython']"
      ]
     },
     "execution_count": 1,
     "metadata": {},
     "output_type": "execute_result"
    }
   ],
   "source": [
    "import sys\n",
    "sys.path"
   ]
  },
  {
   "cell_type": "code",
   "execution_count": 5,
   "metadata": {},
   "outputs": [],
   "source": []
  },
  {
   "cell_type": "markdown",
   "metadata": {},
   "source": [
    "## 日期特征处理\n",
    "\n",
    "one-hat encoding 类型的要处理\n",
    " \n",
    "### 星期几\n",
    "### 第几个季度\n",
    "### 上中下旬\n",
    "### 法定节假日\n"
   ]
  },
  {
   "cell_type": "code",
   "execution_count": null,
   "metadata": {},
   "outputs": [],
   "source": [
    "total_df = pd.\n",
    "\n",
    "\n",
    "total_df.info()\n",
    "\n",
    "total_df.head()\n",
    "\n",
    "\n"
   ]
  },
  {
   "cell_type": "code",
   "execution_count": 10,
   "metadata": {},
   "outputs": [],
   "source": [
    "import sklearn\n",
    "\n",
    "    "
   ]
  },
  {
   "cell_type": "code",
   "execution_count": 19,
   "metadata": {},
   "outputs": [],
   "source": [
    "from sklearn.linear_model import LinearRegression\n",
    "from sklearn.model_selection import GridSearchCV\n",
    "from sklearn.model_selection import  train_test_split\n",
    "from sklearn.naive_bayes import  MultinomialNB"
   ]
  },
  {
   "cell_type": "markdown",
   "metadata": {},
   "source": [
    "### 词袋模型\n",
    "### 朴素贝叶斯\n"
   ]
  },
  {
   "cell_type": "code",
   "execution_count": 16,
   "metadata": {},
   "outputs": [],
   "source": [
    "from sklearn.feature_extraction.text import CountVectorizer\n",
    "vec = CountVectorizer(lowercase=True,analyzer='char_wb',\n",
    "                      ngram_range=(1,2),max_features=1000)\n",
    "\n",
    "# word\n",
    "# vec = CountVectorizer(lowercase=True,analyzer='word',max_features=1000)\n",
    "# vec = CountVectorizer(lowercase=True,analyzer='word',ngram_range=(1,5)，max_features=20000)\n",
    "\n",
    "# 分层抽样"
   ]
  },
  {
   "cell_type": "code",
   "execution_count": null,
   "metadata": {},
   "outputs": [],
   "source": [
    "vec.fit()"
   ]
  },
  {
   "cell_type": "code",
   "execution_count": 18,
   "metadata": {},
   "outputs": [],
   "source": [
    "vec.vocabulary"
   ]
  },
  {
   "cell_type": "code",
   "execution_count": 6,
   "metadata": {},
   "outputs": [
    {
     "data": {
      "text/plain": [
       "<module 'matplotlib.pyplot' from 'E:\\\\ProgramData\\\\Anaconda3\\\\envs\\\\tensorflow\\\\lib\\\\site-packages\\\\matplotlib\\\\pyplot.py'>"
      ]
     },
     "execution_count": 6,
     "metadata": {},
     "output_type": "execute_result"
    }
   ],
   "source": [
    "%matplotlib inline\n",
    "import matplotlib.pyplot as plt\n"
   ]
  },
  {
   "cell_type": "code",
   "execution_count": 7,
   "metadata": {},
   "outputs": [
    {
     "data": {
      "text/plain": [
       "<Figure size 1152x576 with 0 Axes>"
      ]
     },
     "execution_count": 7,
     "metadata": {},
     "output_type": "execute_result"
    },
    {
     "data": {
      "text/plain": [
       "<Figure size 1152x576 with 0 Axes>"
      ]
     },
     "metadata": {},
     "output_type": "display_data"
    }
   ],
   "source": [
    "plt.figure(figsize=(16,8))\n"
   ]
  },
  {
   "cell_type": "code",
   "execution_count": null,
   "metadata": {},
   "outputs": [],
   "source": []
  },
  {
   "cell_type": "code",
   "execution_count": null,
   "metadata": {},
   "outputs": [],
   "source": []
  },
  {
   "cell_type": "code",
   "execution_count": null,
   "metadata": {},
   "outputs": [],
   "source": []
  }
 ],
 "metadata": {
  "kernelspec": {
   "display_name": "Python 3",
   "language": "python",
   "name": "python3"
  },
  "language_info": {
   "codemirror_mode": {
    "name": "ipython",
    "version": 3
   },
   "file_extension": ".py",
   "mimetype": "text/x-python",
   "name": "python",
   "nbconvert_exporter": "python",
   "pygments_lexer": "ipython3",
   "version": "3.5.6"
  }
 },
 "nbformat": 4,
 "nbformat_minor": 2
}
