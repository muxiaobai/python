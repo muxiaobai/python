{
 "cells": [
  {
   "cell_type": "markdown",
   "metadata": {},
   "source": [
    "\n",
    "# 模板\n",
    "\n"
   ]
  },
  {
   "cell_type": "code",
   "execution_count": null,
   "metadata": {},
   "outputs": [],
   "source": []
  },
  {
   "cell_type": "code",
   "execution_count": 5,
   "metadata": {},
   "outputs": [],
   "source": [
    "#!/usr/bin/python\n",
    "# -*- coding: UTF-8 -*-\n",
    "#   https://tianchi.aliyun.com/competition/entrance/231784/information"
   ]
  },
  {
   "cell_type": "code",
   "execution_count": 146,
   "metadata": {},
   "outputs": [],
   "source": [
    "\n",
    "import warnings\n",
    "warnings.filterwarnings(\"ignore\")"
   ]
  },
  {
   "cell_type": "code",
   "execution_count": 147,
   "metadata": {},
   "outputs": [],
   "source": [
    "\n",
    "import pandas as pd\n",
    "import numpy as np\n",
    "import matplotlib.pyplot as plt\n"
   ]
  },
  {
   "cell_type": "markdown",
   "metadata": {},
   "source": [
    "## 1.导入数据\n",
    "   - 训练数据 \n",
    "   - 验证数据 \n",
    "   - 预测数据 \n"
   ]
  },
  {
   "cell_type": "code",
   "execution_count": null,
   "metadata": {},
   "outputs": [],
   "source": []
  },
  {
   "cell_type": "code",
   "execution_count": 219,
   "metadata": {},
   "outputs": [],
   "source": [
    "# \n",
    "path='../tianchi/car'\n",
    "train_data= pd.read_csv(path+'/used_car_train_20200313/used_car_train_20200313.csv',sep=' ',index_col=0)\n",
    "test_data= pd.read_csv(path+'/used_car_testB_20200421/used_car_testB_20200421.csv',sep=' ',index_col=0)\n",
    "\n",
    "predict_data= pd.read_csv(path+'/used_car_sample_submit.csv',sep=',')\n"
   ]
  },
  {
   "cell_type": "code",
   "execution_count": 220,
   "metadata": {},
   "outputs": [
    {
     "data": {
      "text/html": [
       "<div>\n",
       "<style scoped>\n",
       "    .dataframe tbody tr th:only-of-type {\n",
       "        vertical-align: middle;\n",
       "    }\n",
       "\n",
       "    .dataframe tbody tr th {\n",
       "        vertical-align: top;\n",
       "    }\n",
       "\n",
       "    .dataframe thead th {\n",
       "        text-align: right;\n",
       "    }\n",
       "</style>\n",
       "<table border=\"1\" class=\"dataframe\">\n",
       "  <thead>\n",
       "    <tr style=\"text-align: right;\">\n",
       "      <th></th>\n",
       "      <th>name</th>\n",
       "      <th>regDate</th>\n",
       "      <th>model</th>\n",
       "      <th>brand</th>\n",
       "      <th>bodyType</th>\n",
       "      <th>fuelType</th>\n",
       "      <th>gearbox</th>\n",
       "      <th>power</th>\n",
       "      <th>kilometer</th>\n",
       "      <th>regionCode</th>\n",
       "      <th>...</th>\n",
       "      <th>v_5</th>\n",
       "      <th>v_6</th>\n",
       "      <th>v_7</th>\n",
       "      <th>v_8</th>\n",
       "      <th>v_9</th>\n",
       "      <th>v_10</th>\n",
       "      <th>v_11</th>\n",
       "      <th>v_12</th>\n",
       "      <th>v_13</th>\n",
       "      <th>v_14</th>\n",
       "    </tr>\n",
       "  </thead>\n",
       "  <tbody>\n",
       "    <tr>\n",
       "      <th>count</th>\n",
       "      <td>150000.000000</td>\n",
       "      <td>1.500000e+05</td>\n",
       "      <td>149999.000000</td>\n",
       "      <td>150000.000000</td>\n",
       "      <td>145494.000000</td>\n",
       "      <td>141320.000000</td>\n",
       "      <td>144019.000000</td>\n",
       "      <td>150000.000000</td>\n",
       "      <td>150000.000000</td>\n",
       "      <td>150000.000000</td>\n",
       "      <td>...</td>\n",
       "      <td>150000.000000</td>\n",
       "      <td>150000.000000</td>\n",
       "      <td>150000.000000</td>\n",
       "      <td>150000.000000</td>\n",
       "      <td>150000.000000</td>\n",
       "      <td>150000.000000</td>\n",
       "      <td>150000.000000</td>\n",
       "      <td>150000.000000</td>\n",
       "      <td>150000.000000</td>\n",
       "      <td>150000.000000</td>\n",
       "    </tr>\n",
       "    <tr>\n",
       "      <th>mean</th>\n",
       "      <td>68349.172873</td>\n",
       "      <td>2.003417e+07</td>\n",
       "      <td>47.129021</td>\n",
       "      <td>8.052733</td>\n",
       "      <td>1.792369</td>\n",
       "      <td>0.375842</td>\n",
       "      <td>0.224943</td>\n",
       "      <td>119.316547</td>\n",
       "      <td>12.597160</td>\n",
       "      <td>2583.077267</td>\n",
       "      <td>...</td>\n",
       "      <td>0.248204</td>\n",
       "      <td>0.044923</td>\n",
       "      <td>0.124692</td>\n",
       "      <td>0.058144</td>\n",
       "      <td>0.061996</td>\n",
       "      <td>-0.001000</td>\n",
       "      <td>0.009035</td>\n",
       "      <td>0.004813</td>\n",
       "      <td>0.000313</td>\n",
       "      <td>-0.000688</td>\n",
       "    </tr>\n",
       "    <tr>\n",
       "      <th>std</th>\n",
       "      <td>61103.875095</td>\n",
       "      <td>5.364988e+04</td>\n",
       "      <td>49.536040</td>\n",
       "      <td>7.864956</td>\n",
       "      <td>1.760640</td>\n",
       "      <td>0.548677</td>\n",
       "      <td>0.417546</td>\n",
       "      <td>177.168419</td>\n",
       "      <td>3.919576</td>\n",
       "      <td>1885.363218</td>\n",
       "      <td>...</td>\n",
       "      <td>0.045804</td>\n",
       "      <td>0.051743</td>\n",
       "      <td>0.201410</td>\n",
       "      <td>0.029186</td>\n",
       "      <td>0.035692</td>\n",
       "      <td>3.772386</td>\n",
       "      <td>3.286071</td>\n",
       "      <td>2.517478</td>\n",
       "      <td>1.288988</td>\n",
       "      <td>1.038685</td>\n",
       "    </tr>\n",
       "    <tr>\n",
       "      <th>min</th>\n",
       "      <td>0.000000</td>\n",
       "      <td>1.991000e+07</td>\n",
       "      <td>0.000000</td>\n",
       "      <td>0.000000</td>\n",
       "      <td>0.000000</td>\n",
       "      <td>0.000000</td>\n",
       "      <td>0.000000</td>\n",
       "      <td>0.000000</td>\n",
       "      <td>0.500000</td>\n",
       "      <td>0.000000</td>\n",
       "      <td>...</td>\n",
       "      <td>0.000000</td>\n",
       "      <td>0.000000</td>\n",
       "      <td>0.000000</td>\n",
       "      <td>0.000000</td>\n",
       "      <td>0.000000</td>\n",
       "      <td>-9.168192</td>\n",
       "      <td>-5.558207</td>\n",
       "      <td>-9.639552</td>\n",
       "      <td>-4.153899</td>\n",
       "      <td>-6.546556</td>\n",
       "    </tr>\n",
       "    <tr>\n",
       "      <th>25%</th>\n",
       "      <td>11156.000000</td>\n",
       "      <td>1.999091e+07</td>\n",
       "      <td>10.000000</td>\n",
       "      <td>1.000000</td>\n",
       "      <td>0.000000</td>\n",
       "      <td>0.000000</td>\n",
       "      <td>0.000000</td>\n",
       "      <td>75.000000</td>\n",
       "      <td>12.500000</td>\n",
       "      <td>1018.000000</td>\n",
       "      <td>...</td>\n",
       "      <td>0.243615</td>\n",
       "      <td>0.000038</td>\n",
       "      <td>0.062474</td>\n",
       "      <td>0.035334</td>\n",
       "      <td>0.033930</td>\n",
       "      <td>-3.722303</td>\n",
       "      <td>-1.951543</td>\n",
       "      <td>-1.871846</td>\n",
       "      <td>-1.057789</td>\n",
       "      <td>-0.437034</td>\n",
       "    </tr>\n",
       "    <tr>\n",
       "      <th>50%</th>\n",
       "      <td>51638.000000</td>\n",
       "      <td>2.003091e+07</td>\n",
       "      <td>30.000000</td>\n",
       "      <td>6.000000</td>\n",
       "      <td>1.000000</td>\n",
       "      <td>0.000000</td>\n",
       "      <td>0.000000</td>\n",
       "      <td>110.000000</td>\n",
       "      <td>15.000000</td>\n",
       "      <td>2196.000000</td>\n",
       "      <td>...</td>\n",
       "      <td>0.257798</td>\n",
       "      <td>0.000812</td>\n",
       "      <td>0.095866</td>\n",
       "      <td>0.057014</td>\n",
       "      <td>0.058484</td>\n",
       "      <td>1.624076</td>\n",
       "      <td>-0.358053</td>\n",
       "      <td>-0.130753</td>\n",
       "      <td>-0.036245</td>\n",
       "      <td>0.141246</td>\n",
       "    </tr>\n",
       "    <tr>\n",
       "      <th>75%</th>\n",
       "      <td>118841.250000</td>\n",
       "      <td>2.007111e+07</td>\n",
       "      <td>66.000000</td>\n",
       "      <td>13.000000</td>\n",
       "      <td>3.000000</td>\n",
       "      <td>1.000000</td>\n",
       "      <td>0.000000</td>\n",
       "      <td>150.000000</td>\n",
       "      <td>15.000000</td>\n",
       "      <td>3843.000000</td>\n",
       "      <td>...</td>\n",
       "      <td>0.265297</td>\n",
       "      <td>0.102009</td>\n",
       "      <td>0.125243</td>\n",
       "      <td>0.079382</td>\n",
       "      <td>0.087491</td>\n",
       "      <td>2.844357</td>\n",
       "      <td>1.255022</td>\n",
       "      <td>1.776933</td>\n",
       "      <td>0.942813</td>\n",
       "      <td>0.680378</td>\n",
       "    </tr>\n",
       "    <tr>\n",
       "      <th>max</th>\n",
       "      <td>196812.000000</td>\n",
       "      <td>2.015121e+07</td>\n",
       "      <td>247.000000</td>\n",
       "      <td>39.000000</td>\n",
       "      <td>7.000000</td>\n",
       "      <td>6.000000</td>\n",
       "      <td>1.000000</td>\n",
       "      <td>19312.000000</td>\n",
       "      <td>15.000000</td>\n",
       "      <td>8120.000000</td>\n",
       "      <td>...</td>\n",
       "      <td>0.291838</td>\n",
       "      <td>0.151420</td>\n",
       "      <td>1.404936</td>\n",
       "      <td>0.160791</td>\n",
       "      <td>0.222787</td>\n",
       "      <td>12.357011</td>\n",
       "      <td>18.819042</td>\n",
       "      <td>13.847792</td>\n",
       "      <td>11.147669</td>\n",
       "      <td>8.658418</td>\n",
       "    </tr>\n",
       "  </tbody>\n",
       "</table>\n",
       "<p>8 rows × 29 columns</p>\n",
       "</div>"
      ],
      "text/plain": [
       "                name       regDate          model          brand  \\\n",
       "count  150000.000000  1.500000e+05  149999.000000  150000.000000   \n",
       "mean    68349.172873  2.003417e+07      47.129021       8.052733   \n",
       "std     61103.875095  5.364988e+04      49.536040       7.864956   \n",
       "min         0.000000  1.991000e+07       0.000000       0.000000   \n",
       "25%     11156.000000  1.999091e+07      10.000000       1.000000   \n",
       "50%     51638.000000  2.003091e+07      30.000000       6.000000   \n",
       "75%    118841.250000  2.007111e+07      66.000000      13.000000   \n",
       "max    196812.000000  2.015121e+07     247.000000      39.000000   \n",
       "\n",
       "            bodyType       fuelType        gearbox          power  \\\n",
       "count  145494.000000  141320.000000  144019.000000  150000.000000   \n",
       "mean        1.792369       0.375842       0.224943     119.316547   \n",
       "std         1.760640       0.548677       0.417546     177.168419   \n",
       "min         0.000000       0.000000       0.000000       0.000000   \n",
       "25%         0.000000       0.000000       0.000000      75.000000   \n",
       "50%         1.000000       0.000000       0.000000     110.000000   \n",
       "75%         3.000000       1.000000       0.000000     150.000000   \n",
       "max         7.000000       6.000000       1.000000   19312.000000   \n",
       "\n",
       "           kilometer     regionCode      ...                  v_5  \\\n",
       "count  150000.000000  150000.000000      ...        150000.000000   \n",
       "mean       12.597160    2583.077267      ...             0.248204   \n",
       "std         3.919576    1885.363218      ...             0.045804   \n",
       "min         0.500000       0.000000      ...             0.000000   \n",
       "25%        12.500000    1018.000000      ...             0.243615   \n",
       "50%        15.000000    2196.000000      ...             0.257798   \n",
       "75%        15.000000    3843.000000      ...             0.265297   \n",
       "max        15.000000    8120.000000      ...             0.291838   \n",
       "\n",
       "                 v_6            v_7            v_8            v_9  \\\n",
       "count  150000.000000  150000.000000  150000.000000  150000.000000   \n",
       "mean        0.044923       0.124692       0.058144       0.061996   \n",
       "std         0.051743       0.201410       0.029186       0.035692   \n",
       "min         0.000000       0.000000       0.000000       0.000000   \n",
       "25%         0.000038       0.062474       0.035334       0.033930   \n",
       "50%         0.000812       0.095866       0.057014       0.058484   \n",
       "75%         0.102009       0.125243       0.079382       0.087491   \n",
       "max         0.151420       1.404936       0.160791       0.222787   \n",
       "\n",
       "                v_10           v_11           v_12           v_13  \\\n",
       "count  150000.000000  150000.000000  150000.000000  150000.000000   \n",
       "mean       -0.001000       0.009035       0.004813       0.000313   \n",
       "std         3.772386       3.286071       2.517478       1.288988   \n",
       "min        -9.168192      -5.558207      -9.639552      -4.153899   \n",
       "25%        -3.722303      -1.951543      -1.871846      -1.057789   \n",
       "50%         1.624076      -0.358053      -0.130753      -0.036245   \n",
       "75%         2.844357       1.255022       1.776933       0.942813   \n",
       "max        12.357011      18.819042      13.847792      11.147669   \n",
       "\n",
       "                v_14  \n",
       "count  150000.000000  \n",
       "mean       -0.000688  \n",
       "std         1.038685  \n",
       "min        -6.546556  \n",
       "25%        -0.437034  \n",
       "50%         0.141246  \n",
       "75%         0.680378  \n",
       "max         8.658418  \n",
       "\n",
       "[8 rows x 29 columns]"
      ]
     },
     "execution_count": 220,
     "metadata": {},
     "output_type": "execute_result"
    }
   ],
   "source": [
    "train_data.describe()"
   ]
  },
  {
   "cell_type": "code",
   "execution_count": 221,
   "metadata": {},
   "outputs": [
    {
     "data": {
      "text/html": [
       "<div>\n",
       "<style scoped>\n",
       "    .dataframe tbody tr th:only-of-type {\n",
       "        vertical-align: middle;\n",
       "    }\n",
       "\n",
       "    .dataframe tbody tr th {\n",
       "        vertical-align: top;\n",
       "    }\n",
       "\n",
       "    .dataframe thead th {\n",
       "        text-align: right;\n",
       "    }\n",
       "</style>\n",
       "<table border=\"1\" class=\"dataframe\">\n",
       "  <thead>\n",
       "    <tr style=\"text-align: right;\">\n",
       "      <th></th>\n",
       "      <th>name</th>\n",
       "      <th>regDate</th>\n",
       "      <th>model</th>\n",
       "      <th>brand</th>\n",
       "      <th>bodyType</th>\n",
       "      <th>fuelType</th>\n",
       "      <th>gearbox</th>\n",
       "      <th>power</th>\n",
       "      <th>kilometer</th>\n",
       "      <th>regionCode</th>\n",
       "      <th>...</th>\n",
       "      <th>v_5</th>\n",
       "      <th>v_6</th>\n",
       "      <th>v_7</th>\n",
       "      <th>v_8</th>\n",
       "      <th>v_9</th>\n",
       "      <th>v_10</th>\n",
       "      <th>v_11</th>\n",
       "      <th>v_12</th>\n",
       "      <th>v_13</th>\n",
       "      <th>v_14</th>\n",
       "    </tr>\n",
       "  </thead>\n",
       "  <tbody>\n",
       "    <tr>\n",
       "      <th>count</th>\n",
       "      <td>50000.000000</td>\n",
       "      <td>5.000000e+04</td>\n",
       "      <td>50000.00000</td>\n",
       "      <td>50000.000000</td>\n",
       "      <td>48496.000000</td>\n",
       "      <td>47076.000000</td>\n",
       "      <td>48032.000000</td>\n",
       "      <td>50000.000000</td>\n",
       "      <td>50000.000000</td>\n",
       "      <td>50000.000000</td>\n",
       "      <td>...</td>\n",
       "      <td>50000.000000</td>\n",
       "      <td>50000.000000</td>\n",
       "      <td>50000.000000</td>\n",
       "      <td>50000.000000</td>\n",
       "      <td>50000.000000</td>\n",
       "      <td>50000.000000</td>\n",
       "      <td>50000.000000</td>\n",
       "      <td>50000.000000</td>\n",
       "      <td>50000.000000</td>\n",
       "      <td>50000.000000</td>\n",
       "    </tr>\n",
       "    <tr>\n",
       "      <th>mean</th>\n",
       "      <td>68505.606100</td>\n",
       "      <td>2.003401e+07</td>\n",
       "      <td>47.64948</td>\n",
       "      <td>8.087140</td>\n",
       "      <td>1.793736</td>\n",
       "      <td>0.376498</td>\n",
       "      <td>0.226953</td>\n",
       "      <td>119.766960</td>\n",
       "      <td>12.598260</td>\n",
       "      <td>2581.080680</td>\n",
       "      <td>...</td>\n",
       "      <td>0.248147</td>\n",
       "      <td>0.044624</td>\n",
       "      <td>0.124693</td>\n",
       "      <td>0.058198</td>\n",
       "      <td>0.062113</td>\n",
       "      <td>0.019633</td>\n",
       "      <td>0.002759</td>\n",
       "      <td>0.004342</td>\n",
       "      <td>0.004570</td>\n",
       "      <td>-0.007209</td>\n",
       "    </tr>\n",
       "    <tr>\n",
       "      <th>std</th>\n",
       "      <td>61032.124271</td>\n",
       "      <td>5.351615e+04</td>\n",
       "      <td>49.90741</td>\n",
       "      <td>7.899648</td>\n",
       "      <td>1.764970</td>\n",
       "      <td>0.549281</td>\n",
       "      <td>0.418866</td>\n",
       "      <td>206.313348</td>\n",
       "      <td>3.912519</td>\n",
       "      <td>1889.248559</td>\n",
       "      <td>...</td>\n",
       "      <td>0.045836</td>\n",
       "      <td>0.051664</td>\n",
       "      <td>0.201440</td>\n",
       "      <td>0.029171</td>\n",
       "      <td>0.035723</td>\n",
       "      <td>3.764095</td>\n",
       "      <td>3.289523</td>\n",
       "      <td>2.515912</td>\n",
       "      <td>1.287194</td>\n",
       "      <td>1.044718</td>\n",
       "    </tr>\n",
       "    <tr>\n",
       "      <th>min</th>\n",
       "      <td>1.000000</td>\n",
       "      <td>1.991000e+07</td>\n",
       "      <td>0.00000</td>\n",
       "      <td>0.000000</td>\n",
       "      <td>0.000000</td>\n",
       "      <td>0.000000</td>\n",
       "      <td>0.000000</td>\n",
       "      <td>0.000000</td>\n",
       "      <td>0.500000</td>\n",
       "      <td>0.000000</td>\n",
       "      <td>...</td>\n",
       "      <td>0.000000</td>\n",
       "      <td>0.000000</td>\n",
       "      <td>0.000000</td>\n",
       "      <td>0.000000</td>\n",
       "      <td>0.000000</td>\n",
       "      <td>-9.119719</td>\n",
       "      <td>-5.662163</td>\n",
       "      <td>-8.291868</td>\n",
       "      <td>-4.157649</td>\n",
       "      <td>-6.098192</td>\n",
       "    </tr>\n",
       "    <tr>\n",
       "      <th>25%</th>\n",
       "      <td>11315.000000</td>\n",
       "      <td>1.999100e+07</td>\n",
       "      <td>11.00000</td>\n",
       "      <td>1.000000</td>\n",
       "      <td>0.000000</td>\n",
       "      <td>0.000000</td>\n",
       "      <td>0.000000</td>\n",
       "      <td>75.000000</td>\n",
       "      <td>12.500000</td>\n",
       "      <td>1006.000000</td>\n",
       "      <td>...</td>\n",
       "      <td>0.243436</td>\n",
       "      <td>0.000035</td>\n",
       "      <td>0.062519</td>\n",
       "      <td>0.035413</td>\n",
       "      <td>0.033880</td>\n",
       "      <td>-3.675196</td>\n",
       "      <td>-1.963928</td>\n",
       "      <td>-1.865406</td>\n",
       "      <td>-1.048722</td>\n",
       "      <td>-0.440706</td>\n",
       "    </tr>\n",
       "    <tr>\n",
       "      <th>50%</th>\n",
       "      <td>52215.000000</td>\n",
       "      <td>2.003091e+07</td>\n",
       "      <td>30.00000</td>\n",
       "      <td>6.000000</td>\n",
       "      <td>1.000000</td>\n",
       "      <td>0.000000</td>\n",
       "      <td>0.000000</td>\n",
       "      <td>110.000000</td>\n",
       "      <td>15.000000</td>\n",
       "      <td>2204.500000</td>\n",
       "      <td>...</td>\n",
       "      <td>0.257818</td>\n",
       "      <td>0.000801</td>\n",
       "      <td>0.095880</td>\n",
       "      <td>0.056804</td>\n",
       "      <td>0.058749</td>\n",
       "      <td>1.632134</td>\n",
       "      <td>-0.375537</td>\n",
       "      <td>-0.138943</td>\n",
       "      <td>-0.036352</td>\n",
       "      <td>0.136849</td>\n",
       "    </tr>\n",
       "    <tr>\n",
       "      <th>75%</th>\n",
       "      <td>118710.750000</td>\n",
       "      <td>2.007110e+07</td>\n",
       "      <td>66.00000</td>\n",
       "      <td>13.000000</td>\n",
       "      <td>3.000000</td>\n",
       "      <td>1.000000</td>\n",
       "      <td>0.000000</td>\n",
       "      <td>150.000000</td>\n",
       "      <td>15.000000</td>\n",
       "      <td>3842.000000</td>\n",
       "      <td>...</td>\n",
       "      <td>0.265263</td>\n",
       "      <td>0.101654</td>\n",
       "      <td>0.125470</td>\n",
       "      <td>0.079387</td>\n",
       "      <td>0.087624</td>\n",
       "      <td>2.846205</td>\n",
       "      <td>1.263451</td>\n",
       "      <td>1.775632</td>\n",
       "      <td>0.945239</td>\n",
       "      <td>0.685555</td>\n",
       "    </tr>\n",
       "    <tr>\n",
       "      <th>max</th>\n",
       "      <td>196808.000000</td>\n",
       "      <td>2.015121e+07</td>\n",
       "      <td>246.00000</td>\n",
       "      <td>39.000000</td>\n",
       "      <td>7.000000</td>\n",
       "      <td>6.000000</td>\n",
       "      <td>1.000000</td>\n",
       "      <td>19211.000000</td>\n",
       "      <td>15.000000</td>\n",
       "      <td>8120.000000</td>\n",
       "      <td>...</td>\n",
       "      <td>0.291176</td>\n",
       "      <td>0.153403</td>\n",
       "      <td>1.411559</td>\n",
       "      <td>0.157458</td>\n",
       "      <td>0.211304</td>\n",
       "      <td>12.177864</td>\n",
       "      <td>18.789496</td>\n",
       "      <td>13.384828</td>\n",
       "      <td>5.635374</td>\n",
       "      <td>2.649768</td>\n",
       "    </tr>\n",
       "  </tbody>\n",
       "</table>\n",
       "<p>8 rows × 28 columns</p>\n",
       "</div>"
      ],
      "text/plain": [
       "                name       regDate        model         brand      bodyType  \\\n",
       "count   50000.000000  5.000000e+04  50000.00000  50000.000000  48496.000000   \n",
       "mean    68505.606100  2.003401e+07     47.64948      8.087140      1.793736   \n",
       "std     61032.124271  5.351615e+04     49.90741      7.899648      1.764970   \n",
       "min         1.000000  1.991000e+07      0.00000      0.000000      0.000000   \n",
       "25%     11315.000000  1.999100e+07     11.00000      1.000000      0.000000   \n",
       "50%     52215.000000  2.003091e+07     30.00000      6.000000      1.000000   \n",
       "75%    118710.750000  2.007110e+07     66.00000     13.000000      3.000000   \n",
       "max    196808.000000  2.015121e+07    246.00000     39.000000      7.000000   \n",
       "\n",
       "           fuelType       gearbox         power     kilometer    regionCode  \\\n",
       "count  47076.000000  48032.000000  50000.000000  50000.000000  50000.000000   \n",
       "mean       0.376498      0.226953    119.766960     12.598260   2581.080680   \n",
       "std        0.549281      0.418866    206.313348      3.912519   1889.248559   \n",
       "min        0.000000      0.000000      0.000000      0.500000      0.000000   \n",
       "25%        0.000000      0.000000     75.000000     12.500000   1006.000000   \n",
       "50%        0.000000      0.000000    110.000000     15.000000   2204.500000   \n",
       "75%        1.000000      0.000000    150.000000     15.000000   3842.000000   \n",
       "max        6.000000      1.000000  19211.000000     15.000000   8120.000000   \n",
       "\n",
       "           ...                v_5           v_6           v_7           v_8  \\\n",
       "count      ...       50000.000000  50000.000000  50000.000000  50000.000000   \n",
       "mean       ...           0.248147      0.044624      0.124693      0.058198   \n",
       "std        ...           0.045836      0.051664      0.201440      0.029171   \n",
       "min        ...           0.000000      0.000000      0.000000      0.000000   \n",
       "25%        ...           0.243436      0.000035      0.062519      0.035413   \n",
       "50%        ...           0.257818      0.000801      0.095880      0.056804   \n",
       "75%        ...           0.265263      0.101654      0.125470      0.079387   \n",
       "max        ...           0.291176      0.153403      1.411559      0.157458   \n",
       "\n",
       "                v_9          v_10          v_11          v_12          v_13  \\\n",
       "count  50000.000000  50000.000000  50000.000000  50000.000000  50000.000000   \n",
       "mean       0.062113      0.019633      0.002759      0.004342      0.004570   \n",
       "std        0.035723      3.764095      3.289523      2.515912      1.287194   \n",
       "min        0.000000     -9.119719     -5.662163     -8.291868     -4.157649   \n",
       "25%        0.033880     -3.675196     -1.963928     -1.865406     -1.048722   \n",
       "50%        0.058749      1.632134     -0.375537     -0.138943     -0.036352   \n",
       "75%        0.087624      2.846205      1.263451      1.775632      0.945239   \n",
       "max        0.211304     12.177864     18.789496     13.384828      5.635374   \n",
       "\n",
       "               v_14  \n",
       "count  50000.000000  \n",
       "mean      -0.007209  \n",
       "std        1.044718  \n",
       "min       -6.098192  \n",
       "25%       -0.440706  \n",
       "50%        0.136849  \n",
       "75%        0.685555  \n",
       "max        2.649768  \n",
       "\n",
       "[8 rows x 28 columns]"
      ]
     },
     "execution_count": 221,
     "metadata": {},
     "output_type": "execute_result"
    }
   ],
   "source": [
    "test_data.describe()"
   ]
  },
  {
   "cell_type": "code",
   "execution_count": 222,
   "metadata": {},
   "outputs": [
    {
     "data": {
      "text/html": [
       "<div>\n",
       "<style scoped>\n",
       "    .dataframe tbody tr th:only-of-type {\n",
       "        vertical-align: middle;\n",
       "    }\n",
       "\n",
       "    .dataframe tbody tr th {\n",
       "        vertical-align: top;\n",
       "    }\n",
       "\n",
       "    .dataframe thead th {\n",
       "        text-align: right;\n",
       "    }\n",
       "</style>\n",
       "<table border=\"1\" class=\"dataframe\">\n",
       "  <thead>\n",
       "    <tr style=\"text-align: right;\">\n",
       "      <th></th>\n",
       "      <th>SaleID</th>\n",
       "      <th>price</th>\n",
       "    </tr>\n",
       "  </thead>\n",
       "  <tbody>\n",
       "    <tr>\n",
       "      <th>49995</th>\n",
       "      <td>249995</td>\n",
       "      <td>6527.0</td>\n",
       "    </tr>\n",
       "    <tr>\n",
       "      <th>49996</th>\n",
       "      <td>249996</td>\n",
       "      <td>18847.0</td>\n",
       "    </tr>\n",
       "    <tr>\n",
       "      <th>49997</th>\n",
       "      <td>249997</td>\n",
       "      <td>7565.0</td>\n",
       "    </tr>\n",
       "    <tr>\n",
       "      <th>49998</th>\n",
       "      <td>249998</td>\n",
       "      <td>7768.0</td>\n",
       "    </tr>\n",
       "    <tr>\n",
       "      <th>49999</th>\n",
       "      <td>249999</td>\n",
       "      <td>8267.0</td>\n",
       "    </tr>\n",
       "  </tbody>\n",
       "</table>\n",
       "</div>"
      ],
      "text/plain": [
       "       SaleID    price\n",
       "49995  249995   6527.0\n",
       "49996  249996  18847.0\n",
       "49997  249997   7565.0\n",
       "49998  249998   7768.0\n",
       "49999  249999   8267.0"
      ]
     },
     "execution_count": 222,
     "metadata": {},
     "output_type": "execute_result"
    }
   ],
   "source": [
    "predict_data.tail()"
   ]
  },
  {
   "cell_type": "code",
   "execution_count": 223,
   "metadata": {},
   "outputs": [
    {
     "data": {
      "text/plain": [
       "Index(['name', 'regDate', 'model', 'brand', 'bodyType', 'fuelType', 'gearbox',\n",
       "       'power', 'kilometer', 'notRepairedDamage', 'regionCode', 'seller',\n",
       "       'offerType', 'creatDate', 'price', 'v_0', 'v_1', 'v_2', 'v_3', 'v_4',\n",
       "       'v_5', 'v_6', 'v_7', 'v_8', 'v_9', 'v_10', 'v_11', 'v_12', 'v_13',\n",
       "       'v_14'],\n",
       "      dtype='object')"
      ]
     },
     "execution_count": 223,
     "metadata": {},
     "output_type": "execute_result"
    }
   ],
   "source": [
    "train_data.columns"
   ]
  },
  {
   "cell_type": "code",
   "execution_count": null,
   "metadata": {},
   "outputs": [],
   "source": []
  },
  {
   "cell_type": "code",
   "execution_count": 224,
   "metadata": {},
   "outputs": [
    {
     "name": "stdout",
     "output_type": "stream",
     "text": [
      "<class 'pandas.core.frame.DataFrame'>\n",
      "Int64Index: 150000 entries, 0 to 149999\n",
      "Data columns (total 30 columns):\n",
      "name                 150000 non-null int64\n",
      "regDate              150000 non-null int64\n",
      "model                149999 non-null float64\n",
      "brand                150000 non-null int64\n",
      "bodyType             145494 non-null float64\n",
      "fuelType             141320 non-null float64\n",
      "gearbox              144019 non-null float64\n",
      "power                150000 non-null int64\n",
      "kilometer            150000 non-null float64\n",
      "notRepairedDamage    150000 non-null object\n",
      "regionCode           150000 non-null int64\n",
      "seller               150000 non-null int64\n",
      "offerType            150000 non-null int64\n",
      "creatDate            150000 non-null int64\n",
      "price                150000 non-null int64\n",
      "v_0                  150000 non-null float64\n",
      "v_1                  150000 non-null float64\n",
      "v_2                  150000 non-null float64\n",
      "v_3                  150000 non-null float64\n",
      "v_4                  150000 non-null float64\n",
      "v_5                  150000 non-null float64\n",
      "v_6                  150000 non-null float64\n",
      "v_7                  150000 non-null float64\n",
      "v_8                  150000 non-null float64\n",
      "v_9                  150000 non-null float64\n",
      "v_10                 150000 non-null float64\n",
      "v_11                 150000 non-null float64\n",
      "v_12                 150000 non-null float64\n",
      "v_13                 150000 non-null float64\n",
      "v_14                 150000 non-null float64\n",
      "dtypes: float64(20), int64(9), object(1)\n",
      "memory usage: 35.5+ MB\n"
     ]
    }
   ],
   "source": [
    "train_data.info()"
   ]
  },
  {
   "cell_type": "code",
   "execution_count": 225,
   "metadata": {},
   "outputs": [
    {
     "name": "stdout",
     "output_type": "stream",
     "text": [
      "<class 'pandas.core.frame.DataFrame'>\n",
      "Int64Index: 50000 entries, 200000 to 249999\n",
      "Data columns (total 29 columns):\n",
      "name                 50000 non-null int64\n",
      "regDate              50000 non-null int64\n",
      "model                50000 non-null float64\n",
      "brand                50000 non-null int64\n",
      "bodyType             48496 non-null float64\n",
      "fuelType             47076 non-null float64\n",
      "gearbox              48032 non-null float64\n",
      "power                50000 non-null int64\n",
      "kilometer            50000 non-null float64\n",
      "notRepairedDamage    50000 non-null object\n",
      "regionCode           50000 non-null int64\n",
      "seller               50000 non-null int64\n",
      "offerType            50000 non-null int64\n",
      "creatDate            50000 non-null int64\n",
      "v_0                  50000 non-null float64\n",
      "v_1                  50000 non-null float64\n",
      "v_2                  50000 non-null float64\n",
      "v_3                  50000 non-null float64\n",
      "v_4                  50000 non-null float64\n",
      "v_5                  50000 non-null float64\n",
      "v_6                  50000 non-null float64\n",
      "v_7                  50000 non-null float64\n",
      "v_8                  50000 non-null float64\n",
      "v_9                  50000 non-null float64\n",
      "v_10                 50000 non-null float64\n",
      "v_11                 50000 non-null float64\n",
      "v_12                 50000 non-null float64\n",
      "v_13                 50000 non-null float64\n",
      "v_14                 50000 non-null float64\n",
      "dtypes: float64(20), int64(8), object(1)\n",
      "memory usage: 11.4+ MB\n"
     ]
    }
   ],
   "source": [
    "test_data.info()"
   ]
  },
  {
   "cell_type": "code",
   "execution_count": 226,
   "metadata": {},
   "outputs": [
    {
     "data": {
      "text/plain": [
       "(150000,)"
      ]
     },
     "execution_count": 226,
     "metadata": {},
     "output_type": "execute_result"
    }
   ],
   "source": [
    "y_train_data = train_data['price']\n",
    "train_data.pop('price')\n",
    "y_train_data.shape"
   ]
  },
  {
   "cell_type": "markdown",
   "metadata": {},
   "source": [
    "#### 合并 训练集和验证集"
   ]
  },
  {
   "cell_type": "code",
   "execution_count": 227,
   "metadata": {},
   "outputs": [],
   "source": [
    "all_data = pd.concat((train_data,test_data),axis=0)"
   ]
  },
  {
   "cell_type": "code",
   "execution_count": 228,
   "metadata": {},
   "outputs": [
    {
     "data": {
      "text/plain": [
       "(200000, 29)"
      ]
     },
     "execution_count": 228,
     "metadata": {},
     "output_type": "execute_result"
    }
   ],
   "source": [
    "all_data.shape"
   ]
  },
  {
   "cell_type": "markdown",
   "metadata": {},
   "source": []
  },
  {
   "cell_type": "markdown",
   "metadata": {},
   "source": [
    "## 2.特征工程"
   ]
  },
  {
   "cell_type": "code",
   "execution_count": 240,
   "metadata": {},
   "outputs": [
    {
     "data": {
      "text/plain": [
       "Index(['name', 'regDate', 'model', 'brand', 'bodyType', 'fuelType', 'gearbox',\n",
       "       'power', 'kilometer', 'notRepairedDamage', 'regionCode', 'seller',\n",
       "       'offerType', 'creatDate', 'v_0', 'v_1', 'v_2', 'v_3', 'v_4', 'v_5',\n",
       "       'v_6', 'v_7', 'v_8', 'v_9', 'v_10', 'v_11', 'v_12', 'v_13', 'v_14',\n",
       "       'used_time'],\n",
       "      dtype='object')"
      ]
     },
     "execution_count": 240,
     "metadata": {},
     "output_type": "execute_result"
    }
   ],
   "source": [
    "all_data.columns"
   ]
  },
  {
   "cell_type": "markdown",
   "metadata": {},
   "source": [
    "\n",
    "#### 2.1把category的变量转变成numerical表达形式\n",
    "当我们用numerical来表达categorical的时候，要注意，数字本身有大小的含义，所以乱用数字会给之后的模型学习带来麻烦。于是我们可以用One-Hot的方法来表达category。\n",
    "\n",
    "pandas自带的get_dummies方法，可以帮你一键做到One-Hot。\n",
    "#### 处理类型处理 one-hot encoding\n"
   ]
  },
  {
   "cell_type": "code",
   "execution_count": 239,
   "metadata": {
    "scrolled": true
   },
   "outputs": [
    {
     "data": {
      "text/html": [
       "<div>\n",
       "<style scoped>\n",
       "    .dataframe tbody tr th:only-of-type {\n",
       "        vertical-align: middle;\n",
       "    }\n",
       "\n",
       "    .dataframe tbody tr th {\n",
       "        vertical-align: top;\n",
       "    }\n",
       "\n",
       "    .dataframe thead th {\n",
       "        text-align: right;\n",
       "    }\n",
       "</style>\n",
       "<table border=\"1\" class=\"dataframe\">\n",
       "  <thead>\n",
       "    <tr style=\"text-align: right;\">\n",
       "      <th></th>\n",
       "      <th>brand_0</th>\n",
       "      <th>brand_1</th>\n",
       "      <th>brand_2</th>\n",
       "      <th>brand_3</th>\n",
       "      <th>brand_4</th>\n",
       "      <th>brand_5</th>\n",
       "      <th>brand_6</th>\n",
       "      <th>brand_7</th>\n",
       "      <th>brand_8</th>\n",
       "      <th>brand_9</th>\n",
       "      <th>...</th>\n",
       "      <th>brand_30</th>\n",
       "      <th>brand_31</th>\n",
       "      <th>brand_32</th>\n",
       "      <th>brand_33</th>\n",
       "      <th>brand_34</th>\n",
       "      <th>brand_35</th>\n",
       "      <th>brand_36</th>\n",
       "      <th>brand_37</th>\n",
       "      <th>brand_38</th>\n",
       "      <th>brand_39</th>\n",
       "    </tr>\n",
       "    <tr>\n",
       "      <th>SaleID</th>\n",
       "      <th></th>\n",
       "      <th></th>\n",
       "      <th></th>\n",
       "      <th></th>\n",
       "      <th></th>\n",
       "      <th></th>\n",
       "      <th></th>\n",
       "      <th></th>\n",
       "      <th></th>\n",
       "      <th></th>\n",
       "      <th></th>\n",
       "      <th></th>\n",
       "      <th></th>\n",
       "      <th></th>\n",
       "      <th></th>\n",
       "      <th></th>\n",
       "      <th></th>\n",
       "      <th></th>\n",
       "      <th></th>\n",
       "      <th></th>\n",
       "      <th></th>\n",
       "    </tr>\n",
       "  </thead>\n",
       "  <tbody>\n",
       "    <tr>\n",
       "      <th>0</th>\n",
       "      <td>0</td>\n",
       "      <td>0</td>\n",
       "      <td>0</td>\n",
       "      <td>0</td>\n",
       "      <td>0</td>\n",
       "      <td>0</td>\n",
       "      <td>1</td>\n",
       "      <td>0</td>\n",
       "      <td>0</td>\n",
       "      <td>0</td>\n",
       "      <td>...</td>\n",
       "      <td>0</td>\n",
       "      <td>0</td>\n",
       "      <td>0</td>\n",
       "      <td>0</td>\n",
       "      <td>0</td>\n",
       "      <td>0</td>\n",
       "      <td>0</td>\n",
       "      <td>0</td>\n",
       "      <td>0</td>\n",
       "      <td>0</td>\n",
       "    </tr>\n",
       "    <tr>\n",
       "      <th>1</th>\n",
       "      <td>0</td>\n",
       "      <td>1</td>\n",
       "      <td>0</td>\n",
       "      <td>0</td>\n",
       "      <td>0</td>\n",
       "      <td>0</td>\n",
       "      <td>0</td>\n",
       "      <td>0</td>\n",
       "      <td>0</td>\n",
       "      <td>0</td>\n",
       "      <td>...</td>\n",
       "      <td>0</td>\n",
       "      <td>0</td>\n",
       "      <td>0</td>\n",
       "      <td>0</td>\n",
       "      <td>0</td>\n",
       "      <td>0</td>\n",
       "      <td>0</td>\n",
       "      <td>0</td>\n",
       "      <td>0</td>\n",
       "      <td>0</td>\n",
       "    </tr>\n",
       "    <tr>\n",
       "      <th>2</th>\n",
       "      <td>0</td>\n",
       "      <td>0</td>\n",
       "      <td>0</td>\n",
       "      <td>0</td>\n",
       "      <td>0</td>\n",
       "      <td>0</td>\n",
       "      <td>0</td>\n",
       "      <td>0</td>\n",
       "      <td>0</td>\n",
       "      <td>0</td>\n",
       "      <td>...</td>\n",
       "      <td>0</td>\n",
       "      <td>0</td>\n",
       "      <td>0</td>\n",
       "      <td>0</td>\n",
       "      <td>0</td>\n",
       "      <td>0</td>\n",
       "      <td>0</td>\n",
       "      <td>0</td>\n",
       "      <td>0</td>\n",
       "      <td>0</td>\n",
       "    </tr>\n",
       "    <tr>\n",
       "      <th>3</th>\n",
       "      <td>0</td>\n",
       "      <td>0</td>\n",
       "      <td>0</td>\n",
       "      <td>0</td>\n",
       "      <td>0</td>\n",
       "      <td>0</td>\n",
       "      <td>0</td>\n",
       "      <td>0</td>\n",
       "      <td>0</td>\n",
       "      <td>0</td>\n",
       "      <td>...</td>\n",
       "      <td>0</td>\n",
       "      <td>0</td>\n",
       "      <td>0</td>\n",
       "      <td>0</td>\n",
       "      <td>0</td>\n",
       "      <td>0</td>\n",
       "      <td>0</td>\n",
       "      <td>0</td>\n",
       "      <td>0</td>\n",
       "      <td>0</td>\n",
       "    </tr>\n",
       "    <tr>\n",
       "      <th>4</th>\n",
       "      <td>0</td>\n",
       "      <td>0</td>\n",
       "      <td>0</td>\n",
       "      <td>0</td>\n",
       "      <td>0</td>\n",
       "      <td>1</td>\n",
       "      <td>0</td>\n",
       "      <td>0</td>\n",
       "      <td>0</td>\n",
       "      <td>0</td>\n",
       "      <td>...</td>\n",
       "      <td>0</td>\n",
       "      <td>0</td>\n",
       "      <td>0</td>\n",
       "      <td>0</td>\n",
       "      <td>0</td>\n",
       "      <td>0</td>\n",
       "      <td>0</td>\n",
       "      <td>0</td>\n",
       "      <td>0</td>\n",
       "      <td>0</td>\n",
       "    </tr>\n",
       "  </tbody>\n",
       "</table>\n",
       "<p>5 rows × 40 columns</p>\n",
       "</div>"
      ],
      "text/plain": [
       "        brand_0  brand_1  brand_2  brand_3  brand_4  brand_5  brand_6  \\\n",
       "SaleID                                                                  \n",
       "0             0        0        0        0        0        0        1   \n",
       "1             0        1        0        0        0        0        0   \n",
       "2             0        0        0        0        0        0        0   \n",
       "3             0        0        0        0        0        0        0   \n",
       "4             0        0        0        0        0        1        0   \n",
       "\n",
       "        brand_7  brand_8  brand_9    ...     brand_30  brand_31  brand_32  \\\n",
       "SaleID                               ...                                    \n",
       "0             0        0        0    ...            0         0         0   \n",
       "1             0        0        0    ...            0         0         0   \n",
       "2             0        0        0    ...            0         0         0   \n",
       "3             0        0        0    ...            0         0         0   \n",
       "4             0        0        0    ...            0         0         0   \n",
       "\n",
       "        brand_33  brand_34  brand_35  brand_36  brand_37  brand_38  brand_39  \n",
       "SaleID                                                                        \n",
       "0              0         0         0         0         0         0         0  \n",
       "1              0         0         0         0         0         0         0  \n",
       "2              0         0         0         0         0         0         0  \n",
       "3              0         0         0         0         0         0         0  \n",
       "4              0         0         0         0         0         0         0  \n",
       "\n",
       "[5 rows x 40 columns]"
      ]
     },
     "execution_count": 239,
     "metadata": {},
     "output_type": "execute_result"
    }
   ],
   "source": [
    "pd.get_dummies(all_data['brand'], prefix='brand').head()"
   ]
  },
  {
   "cell_type": "code",
   "execution_count": 246,
   "metadata": {},
   "outputs": [
    {
     "data": {
      "text/html": [
       "<div>\n",
       "<style scoped>\n",
       "    .dataframe tbody tr th:only-of-type {\n",
       "        vertical-align: middle;\n",
       "    }\n",
       "\n",
       "    .dataframe tbody tr th {\n",
       "        vertical-align: top;\n",
       "    }\n",
       "\n",
       "    .dataframe thead th {\n",
       "        text-align: right;\n",
       "    }\n",
       "</style>\n",
       "<table border=\"1\" class=\"dataframe\">\n",
       "  <thead>\n",
       "    <tr style=\"text-align: right;\">\n",
       "      <th></th>\n",
       "      <th>name</th>\n",
       "      <th>regDate</th>\n",
       "      <th>power</th>\n",
       "      <th>kilometer</th>\n",
       "      <th>regionCode</th>\n",
       "      <th>seller</th>\n",
       "      <th>offerType</th>\n",
       "      <th>creatDate</th>\n",
       "      <th>v_0</th>\n",
       "      <th>v_1</th>\n",
       "      <th>...</th>\n",
       "      <th>fuelType_0.3760058599970275</th>\n",
       "      <th>fuelType_1.0</th>\n",
       "      <th>fuelType_2.0</th>\n",
       "      <th>fuelType_3.0</th>\n",
       "      <th>fuelType_4.0</th>\n",
       "      <th>fuelType_5.0</th>\n",
       "      <th>fuelType_6.0</th>\n",
       "      <th>gearbox_0.0</th>\n",
       "      <th>gearbox_0.22544532441903453</th>\n",
       "      <th>gearbox_1.0</th>\n",
       "    </tr>\n",
       "    <tr>\n",
       "      <th>SaleID</th>\n",
       "      <th></th>\n",
       "      <th></th>\n",
       "      <th></th>\n",
       "      <th></th>\n",
       "      <th></th>\n",
       "      <th></th>\n",
       "      <th></th>\n",
       "      <th></th>\n",
       "      <th></th>\n",
       "      <th></th>\n",
       "      <th></th>\n",
       "      <th></th>\n",
       "      <th></th>\n",
       "      <th></th>\n",
       "      <th></th>\n",
       "      <th></th>\n",
       "      <th></th>\n",
       "      <th></th>\n",
       "      <th></th>\n",
       "      <th></th>\n",
       "      <th></th>\n",
       "    </tr>\n",
       "  </thead>\n",
       "  <tbody>\n",
       "    <tr>\n",
       "      <th>0</th>\n",
       "      <td>736</td>\n",
       "      <td>20040402</td>\n",
       "      <td>60</td>\n",
       "      <td>12.5</td>\n",
       "      <td>1046</td>\n",
       "      <td>0</td>\n",
       "      <td>0</td>\n",
       "      <td>20160404</td>\n",
       "      <td>43.357796</td>\n",
       "      <td>3.966344</td>\n",
       "      <td>...</td>\n",
       "      <td>0</td>\n",
       "      <td>0</td>\n",
       "      <td>0</td>\n",
       "      <td>0</td>\n",
       "      <td>0</td>\n",
       "      <td>0</td>\n",
       "      <td>0</td>\n",
       "      <td>1</td>\n",
       "      <td>0</td>\n",
       "      <td>0</td>\n",
       "    </tr>\n",
       "    <tr>\n",
       "      <th>1</th>\n",
       "      <td>2262</td>\n",
       "      <td>20030301</td>\n",
       "      <td>0</td>\n",
       "      <td>15.0</td>\n",
       "      <td>4366</td>\n",
       "      <td>0</td>\n",
       "      <td>0</td>\n",
       "      <td>20160309</td>\n",
       "      <td>45.305273</td>\n",
       "      <td>5.236112</td>\n",
       "      <td>...</td>\n",
       "      <td>0</td>\n",
       "      <td>0</td>\n",
       "      <td>0</td>\n",
       "      <td>0</td>\n",
       "      <td>0</td>\n",
       "      <td>0</td>\n",
       "      <td>0</td>\n",
       "      <td>1</td>\n",
       "      <td>0</td>\n",
       "      <td>0</td>\n",
       "    </tr>\n",
       "    <tr>\n",
       "      <th>2</th>\n",
       "      <td>14874</td>\n",
       "      <td>20040403</td>\n",
       "      <td>163</td>\n",
       "      <td>12.5</td>\n",
       "      <td>2806</td>\n",
       "      <td>0</td>\n",
       "      <td>0</td>\n",
       "      <td>20160402</td>\n",
       "      <td>45.978359</td>\n",
       "      <td>4.823792</td>\n",
       "      <td>...</td>\n",
       "      <td>0</td>\n",
       "      <td>0</td>\n",
       "      <td>0</td>\n",
       "      <td>0</td>\n",
       "      <td>0</td>\n",
       "      <td>0</td>\n",
       "      <td>0</td>\n",
       "      <td>1</td>\n",
       "      <td>0</td>\n",
       "      <td>0</td>\n",
       "    </tr>\n",
       "    <tr>\n",
       "      <th>3</th>\n",
       "      <td>71865</td>\n",
       "      <td>19960908</td>\n",
       "      <td>193</td>\n",
       "      <td>15.0</td>\n",
       "      <td>434</td>\n",
       "      <td>0</td>\n",
       "      <td>0</td>\n",
       "      <td>20160312</td>\n",
       "      <td>45.687478</td>\n",
       "      <td>4.492574</td>\n",
       "      <td>...</td>\n",
       "      <td>0</td>\n",
       "      <td>0</td>\n",
       "      <td>0</td>\n",
       "      <td>0</td>\n",
       "      <td>0</td>\n",
       "      <td>0</td>\n",
       "      <td>0</td>\n",
       "      <td>0</td>\n",
       "      <td>0</td>\n",
       "      <td>1</td>\n",
       "    </tr>\n",
       "    <tr>\n",
       "      <th>4</th>\n",
       "      <td>111080</td>\n",
       "      <td>20120103</td>\n",
       "      <td>68</td>\n",
       "      <td>5.0</td>\n",
       "      <td>6977</td>\n",
       "      <td>0</td>\n",
       "      <td>0</td>\n",
       "      <td>20160313</td>\n",
       "      <td>44.383511</td>\n",
       "      <td>2.031433</td>\n",
       "      <td>...</td>\n",
       "      <td>0</td>\n",
       "      <td>0</td>\n",
       "      <td>0</td>\n",
       "      <td>0</td>\n",
       "      <td>0</td>\n",
       "      <td>0</td>\n",
       "      <td>0</td>\n",
       "      <td>1</td>\n",
       "      <td>0</td>\n",
       "      <td>0</td>\n",
       "    </tr>\n",
       "  </tbody>\n",
       "</table>\n",
       "<p>5 rows × 336 columns</p>\n",
       "</div>"
      ],
      "text/plain": [
       "          name   regDate  power  kilometer  regionCode  seller  offerType  \\\n",
       "SaleID                                                                      \n",
       "0          736  20040402     60       12.5        1046       0          0   \n",
       "1         2262  20030301      0       15.0        4366       0          0   \n",
       "2        14874  20040403    163       12.5        2806       0          0   \n",
       "3        71865  19960908    193       15.0         434       0          0   \n",
       "4       111080  20120103     68        5.0        6977       0          0   \n",
       "\n",
       "        creatDate        v_0       v_1     ...       \\\n",
       "SaleID                                     ...        \n",
       "0        20160404  43.357796  3.966344     ...        \n",
       "1        20160309  45.305273  5.236112     ...        \n",
       "2        20160402  45.978359  4.823792     ...        \n",
       "3        20160312  45.687478  4.492574     ...        \n",
       "4        20160313  44.383511  2.031433     ...        \n",
       "\n",
       "        fuelType_0.3760058599970275  fuelType_1.0  fuelType_2.0  fuelType_3.0  \\\n",
       "SaleID                                                                          \n",
       "0                                 0             0             0             0   \n",
       "1                                 0             0             0             0   \n",
       "2                                 0             0             0             0   \n",
       "3                                 0             0             0             0   \n",
       "4                                 0             0             0             0   \n",
       "\n",
       "        fuelType_4.0  fuelType_5.0  fuelType_6.0  gearbox_0.0  \\\n",
       "SaleID                                                          \n",
       "0                  0             0             0            1   \n",
       "1                  0             0             0            1   \n",
       "2                  0             0             0            1   \n",
       "3                  0             0             0            0   \n",
       "4                  0             0             0            1   \n",
       "\n",
       "        gearbox_0.22544532441903453  gearbox_1.0  \n",
       "SaleID                                            \n",
       "0                                 0            0  \n",
       "1                                 0            0  \n",
       "2                                 0            0  \n",
       "3                                 0            1  \n",
       "4                                 0            0  \n",
       "\n",
       "[5 rows x 336 columns]"
      ]
     },
     "execution_count": 246,
     "metadata": {},
     "output_type": "execute_result"
    }
   ],
   "source": [
    "# 对类别特征进行 OneEncoder\n",
    "all_data = pd.get_dummies(all_data, columns=['model', 'brand', 'bodyType', 'fuelType',\n",
    "                                     'gearbox', 'notRepairedDamage'])\n",
    "all_data.head()"
   ]
  },
  {
   "cell_type": "code",
   "execution_count": 247,
   "metadata": {},
   "outputs": [
    {
     "data": {
      "text/plain": [
       "Index(['name', 'regDate', 'power', 'kilometer', 'regionCode', 'seller',\n",
       "       'offerType', 'creatDate', 'v_0', 'v_1',\n",
       "       ...\n",
       "       'fuelType_0.3760058599970275', 'fuelType_1.0', 'fuelType_2.0',\n",
       "       'fuelType_3.0', 'fuelType_4.0', 'fuelType_5.0', 'fuelType_6.0',\n",
       "       'gearbox_0.0', 'gearbox_0.22544532441903453', 'gearbox_1.0'],\n",
       "      dtype='object', length=336)"
      ]
     },
     "execution_count": 247,
     "metadata": {},
     "output_type": "execute_result"
    }
   ],
   "source": [
    "all_data.columns"
   ]
  },
  {
   "cell_type": "markdown",
   "metadata": {},
   "source": [
    "#### 2.2处理日期数据\n"
   ]
  },
  {
   "cell_type": "code",
   "execution_count": 233,
   "metadata": {
    "scrolled": true
   },
   "outputs": [
    {
     "data": {
      "text/plain": [
       "SaleID\n",
       "0    20160404\n",
       "1    20160309\n",
       "2    20160402\n",
       "3    20160312\n",
       "4    20160313\n",
       "Name: creatDate, dtype: int64"
      ]
     },
     "execution_count": 233,
     "metadata": {},
     "output_type": "execute_result"
    }
   ],
   "source": [
    "all_data['creatDate'].head()"
   ]
  },
  {
   "cell_type": "code",
   "execution_count": 234,
   "metadata": {},
   "outputs": [
    {
     "data": {
      "text/plain": [
       "15083"
      ]
     },
     "execution_count": 234,
     "metadata": {},
     "output_type": "execute_result"
    }
   ],
   "source": [
    "# 使用时间：data['creatDate'] - data['regDate']，反应汽车使用时间，一般来说价格与使用时间成反比\n",
    "# 不过要注意，数据里有时间出错的格式，所以我们需要 errors='coerce'\n",
    "all_data['used_time'] = (pd.to_datetime(all_data['creatDate'], format='%Y%m%d', errors='coerce') - \n",
    "                            pd.to_datetime(all_data['regDate'], format='%Y%m%d', errors='coerce')).dt.days\n",
    "# 看一下空数据，有 15k 个样本的时间是有问题的，我们可以选择删除，也可以选择放着。\n",
    "all_data['used_time'].isnull().sum()"
   ]
  },
  {
   "cell_type": "code",
   "execution_count": 235,
   "metadata": {
    "scrolled": false
   },
   "outputs": [
    {
     "data": {
      "text/plain": [
       "SaleID\n",
       "0    4385.0\n",
       "1    4757.0\n",
       "2    4382.0\n",
       "3    7125.0\n",
       "4    1531.0\n",
       "Name: used_time, dtype: float64"
      ]
     },
     "execution_count": 235,
     "metadata": {},
     "output_type": "execute_result"
    }
   ],
   "source": [
    "all_data['used_time'].head()"
   ]
  },
  {
   "cell_type": "markdown",
   "metadata": {},
   "source": [
    "#### 获取日期的星期 周 月 日，旬"
   ]
  },
  {
   "cell_type": "code",
   "execution_count": null,
   "metadata": {},
   "outputs": [],
   "source": [
    "all_data['creatDate'].d"
   ]
  },
  {
   "cell_type": "markdown",
   "metadata": {},
   "source": [
    "#### 2.3处理空值  一般处理过程  空值处理填平均值，"
   ]
  },
  {
   "cell_type": "code",
   "execution_count": 248,
   "metadata": {},
   "outputs": [
    {
     "data": {
      "text/plain": [
       "gearbox_1.0    0\n",
       "model_86.0     0\n",
       "model_78.0     0\n",
       "model_79.0     0\n",
       "model_80.0     0\n",
       "model_81.0     0\n",
       "model_82.0     0\n",
       "model_83.0     0\n",
       "model_84.0     0\n",
       "model_85.0     0\n",
       "dtype: int64"
      ]
     },
     "execution_count": 248,
     "metadata": {},
     "output_type": "execute_result"
    }
   ],
   "source": [
    "all_data.isnull().sum().sort_values(ascending=False).head(10)"
   ]
  },
  {
   "cell_type": "markdown",
   "metadata": {},
   "source": [
    "##### 填了平均值"
   ]
  },
  {
   "cell_type": "code",
   "execution_count": 236,
   "metadata": {},
   "outputs": [],
   "source": [
    "mean_cols = all_data.mean()\n",
    "mean_cols.head(10)\n",
    "all_data = all_data.fillna(mean_cols)\n"
   ]
  },
  {
   "cell_type": "code",
   "execution_count": 237,
   "metadata": {},
   "outputs": [
    {
     "data": {
      "text/plain": [
       "used_time    0\n",
       "v_14         0\n",
       "regDate      0\n",
       "model        0\n",
       "brand        0\n",
       "bodyType     0\n",
       "fuelType     0\n",
       "gearbox      0\n",
       "power        0\n",
       "kilometer    0\n",
       "dtype: int64"
      ]
     },
     "execution_count": 237,
     "metadata": {},
     "output_type": "execute_result"
    }
   ],
   "source": [
    "all_data.isnull().sum().sort_values(ascending=False).head(10)"
   ]
  },
  {
   "cell_type": "markdown",
   "metadata": {},
   "source": [
    "##### 标准化numerical数据\n",
    "一般来说，regression的分类器都比较傲娇，最好是把源数据给放在一个标准分布内。不要让数据间的差距太大。\n",
    "\n",
    "计算标准分布：(X-X')/s\n",
    "\n",
    "让我们的数据点更平滑，更便于计算。\n",
    "\n",
    "注意：我们这里也是可以继续使用Log的，我只是给大家展示一下多种“使数据平滑”的办法。"
   ]
  },
  {
   "cell_type": "code",
   "execution_count": 185,
   "metadata": {},
   "outputs": [],
   "source": [
    "#numeric_cols = all_data.columns[all_data.dtypes != 'object']\n",
    "#numeric_col_means = all_data.loc[:, numeric_cols].mean()\n",
    "#numeric_col_std = all_data.loc[:, numeric_cols].std()\n",
    "\n",
    "#all_data.loc[:, numeric_cols] = (all_data.loc[:, numeric_cols] - numeric_col_means) / numeric_col_std\n",
    "\n",
    "#all_data.loc[:, numeric_cols] = np.log1p(all_data.loc[:, numeric_cols])\n",
    "\n"
   ]
  },
  {
   "cell_type": "markdown",
   "metadata": {},
   "source": [
    "#### 统一进行log处理变成正态分布"
   ]
  },
  {
   "cell_type": "code",
   "execution_count": 284,
   "metadata": {},
   "outputs": [
    {
     "data": {
      "text/plain": [
       "array([[<matplotlib.axes._subplots.AxesSubplot object at 0x000001A780DE3780>,\n",
       "        <matplotlib.axes._subplots.AxesSubplot object at 0x000001A780DD16A0>]],\n",
       "      dtype=object)"
      ]
     },
     "execution_count": 284,
     "metadata": {},
     "output_type": "execute_result"
    },
    {
     "data": {
      "image/png": "[encoded data removed]",
      "text/plain": [
       "<Figure size 432x288 with 2 Axes>"
      ]
     },
     "metadata": {
      "needs_background": "light"
     },
     "output_type": "display_data"
    }
   ],
   "source": [
    "%matplotlib inline\n",
    "prices = pd.DataFrame({\"price\":y_train_data, \"log(price + 1)\":np.log1p(y_train_data)})\n",
    "prices.hist()"
   ]
  },
  {
   "cell_type": "markdown",
   "metadata": {},
   "source": [
    "#### 处理文本数据"
   ]
  },
  {
   "cell_type": "code",
   "execution_count": null,
   "metadata": {},
   "outputs": [],
   "source": []
  },
  {
   "cell_type": "code",
   "execution_count": null,
   "metadata": {},
   "outputs": [],
   "source": []
  },
  {
   "cell_type": "code",
   "execution_count": 249,
   "metadata": {},
   "outputs": [],
   "source": [
    "numerical_cols = all_data.select_dtypes(exclude = 'object').columns"
   ]
  },
  {
   "cell_type": "code",
   "execution_count": 250,
   "metadata": {},
   "outputs": [
    {
     "data": {
      "text/plain": [
       "Index(['name', 'regDate', 'power', 'kilometer', 'regionCode', 'seller',\n",
       "       'offerType', 'creatDate', 'v_0', 'v_1',\n",
       "       ...\n",
       "       'fuelType_0.3760058599970275', 'fuelType_1.0', 'fuelType_2.0',\n",
       "       'fuelType_3.0', 'fuelType_4.0', 'fuelType_5.0', 'fuelType_6.0',\n",
       "       'gearbox_0.0', 'gearbox_0.22544532441903453', 'gearbox_1.0'],\n",
       "      dtype='object', length=336)"
      ]
     },
     "execution_count": 250,
     "metadata": {},
     "output_type": "execute_result"
    }
   ],
   "source": [
    "numerical_cols"
   ]
  },
  {
   "cell_type": "code",
   "execution_count": 251,
   "metadata": {},
   "outputs": [],
   "source": [
    "feature_columns = [ 'name', 'model', 'brand', 'bodyType', 'fuelType',\n",
    "       'gearbox', 'power', 'kilometer', 'regionCode',\n",
    "       'seller', 'offerType', 'used_time']\n",
    "feature_data = all_data[numerical_cols]"
   ]
  },
  {
   "cell_type": "markdown",
   "metadata": {},
   "source": [
    "#### 拆分训练数据和预测数据"
   ]
  },
  {
   "cell_type": "code",
   "execution_count": null,
   "metadata": {},
   "outputs": [],
   "source": []
  },
  {
   "cell_type": "code",
   "execution_count": 252,
   "metadata": {},
   "outputs": [],
   "source": [
    "X_train_data = feature_data.loc[train_data.index]\n",
    "X_test_data = feature_data.loc[test_data.index]"
   ]
  },
  {
   "cell_type": "code",
   "execution_count": 289,
   "metadata": {},
   "outputs": [
    {
     "data": {
      "text/plain": [
       "Index(['name', 'regDate', 'power', 'kilometer', 'regionCode', 'seller',\n",
       "       'offerType', 'creatDate', 'v_0', 'v_1',\n",
       "       ...\n",
       "       'fuelType_0.3760058599970275', 'fuelType_1.0', 'fuelType_2.0',\n",
       "       'fuelType_3.0', 'fuelType_4.0', 'fuelType_5.0', 'fuelType_6.0',\n",
       "       'gearbox_0.0', 'gearbox_0.22544532441903453', 'gearbox_1.0'],\n",
       "      dtype='object', length=336)"
      ]
     },
     "execution_count": 289,
     "metadata": {},
     "output_type": "execute_result"
    }
   ],
   "source": [
    "X_train_data.columns"
   ]
  },
  {
   "cell_type": "markdown",
   "metadata": {},
   "source": [
    "#### 保存处理后的数据\n"
   ]
  },
  {
   "cell_type": "code",
   "execution_count": 190,
   "metadata": {},
   "outputs": [],
   "source": [
    "pd.DataFrame(y_train_data).to_csv(path+'/temp_y_train_data.csv')\n",
    "pd.DataFrame(all_data).to_csv(path+'/temp_all_data.csv')\n",
    "#my_submission.to_csv('submission.csv',index = False,header = False,columns = ['date','cnt'])\n",
    "#my_submission.to_csv('result.txt',index=False,header=False,columns = ['date','cnt'],sep='\\t')"
   ]
  },
  {
   "cell_type": "code",
   "execution_count": 317,
   "metadata": {},
   "outputs": [],
   "source": [
    "X_train_model = X_train_data\n",
    "X_test = X_test_data\n",
    "\n",
    "y_train_model = np.log1p(y_train_data)\n",
    "#y_train = y_train_data\n"
   ]
  },
  {
   "cell_type": "code",
   "execution_count": 318,
   "metadata": {},
   "outputs": [
    {
     "data": {
      "text/plain": [
       "((150000, 336), (150000,))"
      ]
     },
     "execution_count": 318,
     "metadata": {},
     "output_type": "execute_result"
    }
   ],
   "source": [
    "X_train_model.shape,y_train_model.shape"
   ]
  },
  {
   "cell_type": "markdown",
   "metadata": {},
   "source": [
    "## 3.定义模型"
   ]
  },
  {
   "cell_type": "code",
   "execution_count": 319,
   "metadata": {},
   "outputs": [],
   "source": [
    "\n",
    "from sklearn.model_selection import  GridSearchCV\n",
    "from sklearn.model_selection import cross_val_score\n"
   ]
  },
  {
   "cell_type": "markdown",
   "metadata": {},
   "source": [
    "### 获取最有参数\n",
    "   - 网格查找\n",
    "   - 自定义遍历\n",
    "   - 例下 alphas 要获取一个最优的参数"
   ]
  },
  {
   "cell_type": "markdown",
   "metadata": {},
   "source": [
    "##### Ridge"
   ]
  },
  {
   "cell_type": "code",
   "execution_count": 320,
   "metadata": {},
   "outputs": [],
   "source": [
    "from sklearn.linear_model import Ridge\n"
   ]
  },
  {
   "cell_type": "code",
   "execution_count": 321,
   "metadata": {},
   "outputs": [
    {
     "data": {
      "text/plain": [
       "array([1.00000000e-03, 1.26485522e-03, 1.59985872e-03, 2.02358965e-03,\n",
       "       2.55954792e-03, 3.23745754e-03, 4.09491506e-03, 5.17947468e-03,\n",
       "       6.55128557e-03, 8.28642773e-03, 1.04811313e-02, 1.32571137e-02,\n",
       "       1.67683294e-02, 2.12095089e-02, 2.68269580e-02, 3.39322177e-02,\n",
       "       4.29193426e-02, 5.42867544e-02, 6.86648845e-02, 8.68511374e-02,\n",
       "       1.09854114e-01, 1.38949549e-01, 1.75751062e-01, 2.22299648e-01,\n",
       "       2.81176870e-01, 3.55648031e-01, 4.49843267e-01, 5.68986603e-01,\n",
       "       7.19685673e-01, 9.10298178e-01, 1.15139540e+00, 1.45634848e+00,\n",
       "       1.84206997e+00, 2.32995181e+00, 2.94705170e+00, 3.72759372e+00,\n",
       "       4.71486636e+00, 5.96362332e+00, 7.54312006e+00, 9.54095476e+00,\n",
       "       1.20679264e+01, 1.52641797e+01, 1.93069773e+01, 2.44205309e+01,\n",
       "       3.08884360e+01, 3.90693994e+01, 4.94171336e+01, 6.25055193e+01,\n",
       "       7.90604321e+01, 1.00000000e+02])"
      ]
     },
     "execution_count": 321,
     "metadata": {},
     "output_type": "execute_result"
    }
   ],
   "source": [
    "np.logspace(-3,2,50)"
   ]
  },
  {
   "cell_type": "code",
   "execution_count": 323,
   "metadata": {},
   "outputs": [],
   "source": [
    "alphas = np.logspace(-3, 2, 50)\n",
    "test_scores = []\n",
    "for alpha in alphas:\n",
    "    clf = Ridge(alpha)\n",
    "    #test_score = np.sqrt(-cross_val_score(clf, X_train, y_train, cv=10, scoring='neg_mean_squared_error'))\n",
    "    #test_scores.append(np.mean(test_score))\n",
    "    test_score = cross_val_score(clf,X_train_model,y=y_train_model)\n",
    "    test_scores.append(np.mean(test_score))"
   ]
  },
  {
   "cell_type": "code",
   "execution_count": 324,
   "metadata": {},
   "outputs": [],
   "source": [
    "import matplotlib.pyplot as plt\n",
    "%matplotlib inline"
   ]
  },
  {
   "cell_type": "code",
   "execution_count": 325,
   "metadata": {},
   "outputs": [
    {
     "data": {
      "image/png": "[encoded data removed]",
      "text/plain": [
       "<Figure size 432x288 with 1 Axes>"
      ]
     },
     "metadata": {
      "needs_background": "light"
     },
     "output_type": "display_data"
    }
   ],
   "source": [
    "\n",
    "plt.plot(alphas, test_scores)\n",
    "plt.title(\"Alpha vs CV Error\");"
   ]
  },
  {
   "cell_type": "markdown",
   "metadata": {},
   "source": [
    "#####  RandomForestRegressor\n"
   ]
  },
  {
   "cell_type": "code",
   "execution_count": 326,
   "metadata": {},
   "outputs": [],
   "source": [
    "from sklearn.ensemble import RandomForestRegressor"
   ]
  },
  {
   "cell_type": "code",
   "execution_count": 328,
   "metadata": {},
   "outputs": [],
   "source": [
    "\n",
    "max_features = [.1, .3, .5, .7, .9, .99]\n",
    "test_scores = []\n",
    "for max_feat in max_features:\n",
    "    clf = RandomForestRegressor(n_estimators=200, max_features=max_feat)\n",
    "    #test_score = np.sqrt(-cross_val_score(clf, X_train_model, y_train_model, cv=5, scoring='neg_mean_squared_error'))\n",
    "    #test_scores.append(np.mean(test_scores))\n",
    "    test_score = cross_val_score(clf,X_train_model,y=y_train_model)\n",
    "    test_scores.append(np.mean(test_score))\n"
   ]
  },
  {
   "cell_type": "code",
   "execution_count": 329,
   "metadata": {},
   "outputs": [
    {
     "data": {
      "image/png": "[encoded data removed]",
      "text/plain": [
       "<Figure size 432x288 with 1 Axes>"
      ]
     },
     "metadata": {
      "needs_background": "light"
     },
     "output_type": "display_data"
    }
   ],
   "source": [
    "\n",
    "plt.plot(max_features, test_scores)\n",
    "plt.title(\"Max Features vs CV Error\");"
   ]
  },
  {
   "cell_type": "markdown",
   "metadata": {},
   "source": [
    "#### 获取到最佳参数alpha = 100 max_features=0.3,然后定义模型"
   ]
  },
  {
   "cell_type": "code",
   "execution_count": 107,
   "metadata": {},
   "outputs": [],
   "source": [
    "ridge = Ridge(alpha=100)\n",
    "rf = RandomForestRegressor(n_estimators=20, max_features=0.3)"
   ]
  },
  {
   "cell_type": "markdown",
   "metadata": {},
   "source": [
    "#### 做一点高级的Ensemble\n",
    "一般来说，单个分类器的效果真的是很有限。我们会倾向于把N多的分类器合在一起，做一个“综合分类器”以达到最好的效果。\n",
    "\n",
    "我们从刚刚的试验中得知，Ridge(alpha=15)给了我们最好的结果\n",
    "\n",
    "模型融合\n"
   ]
  },
  {
   "cell_type": "code",
   "execution_count": null,
   "metadata": {},
   "outputs": [],
   "source": [
    "from sklearn.ensemble import BaggingRegressor"
   ]
  },
  {
   "cell_type": "code",
   "execution_count": null,
   "metadata": {},
   "outputs": [],
   "source": [
    "params = [1, 10, 15, 20, 25, 30, 40]\n",
    "test_scores = []\n",
    "for param in params:\n",
    "    clf = BaggingRegressor(n_estimators=param, base_estimator=ridge)\n",
    "    #test_score = np.sqrt(-cross_val_score(clf, X_train_model, y_train_model, cv=10, scoring='neg_mean_squared_error'))\n",
    "    #test_scores.append(np.mean(test_score))\n",
    "    test_score = cross_val_score(clf,X_train_model,y=y_train_model)\n",
    "    test_scores.append(np.mean(test_score))\n"
   ]
  },
  {
   "cell_type": "code",
   "execution_count": null,
   "metadata": {},
   "outputs": [],
   "source": [
    "\n",
    "plt.plot(params, test_scores)\n",
    "plt.title(\"n_estimator vs CV Error\");"
   ]
  },
  {
   "cell_type": "code",
   "execution_count": 311,
   "metadata": {},
   "outputs": [],
   "source": [
    "t_model = DecisionTreeRegressor(max_leaf_nodes = 1000,random_state = 0)"
   ]
  },
  {
   "cell_type": "code",
   "execution_count": 312,
   "metadata": {},
   "outputs": [],
   "source": [
    "bgr_model = BaggingRegressor(n_estimators=20, base_estimator=ridge)"
   ]
  },
  {
   "cell_type": "markdown",
   "metadata": {},
   "source": [
    "## 4.训练模型"
   ]
  },
  {
   "cell_type": "code",
   "execution_count": null,
   "metadata": {},
   "outputs": [],
   "source": []
  },
  {
   "cell_type": "code",
   "execution_count": 313,
   "metadata": {},
   "outputs": [
    {
     "data": {
      "text/plain": [
       "RandomForestRegressor(bootstrap=True, criterion='mse', max_depth=None,\n",
       "           max_features=0.3, max_leaf_nodes=None,\n",
       "           min_impurity_decrease=0.0, min_impurity_split=None,\n",
       "           min_samples_leaf=1, min_samples_split=2,\n",
       "           min_weight_fraction_leaf=0.0, n_estimators=100, n_jobs=None,\n",
       "           oob_score=False, random_state=None, verbose=0, warm_start=False)"
      ]
     },
     "execution_count": 313,
     "metadata": {},
     "output_type": "execute_result"
    }
   ],
   "source": [
    "\n",
    "ridge.fit(X_train_model, y_train_model)\n",
    "rf.fit(X_train_model, y_train_model)"
   ]
  },
  {
   "cell_type": "code",
   "execution_count": 314,
   "metadata": {},
   "outputs": [
    {
     "data": {
      "text/plain": [
       "DecisionTreeRegressor(criterion='mse', max_depth=None, max_features=None,\n",
       "           max_leaf_nodes=1000, min_impurity_decrease=0.0,\n",
       "           min_impurity_split=None, min_samples_leaf=1,\n",
       "           min_samples_split=2, min_weight_fraction_leaf=0.0,\n",
       "           presort=False, random_state=0, splitter='best')"
      ]
     },
     "execution_count": 314,
     "metadata": {},
     "output_type": "execute_result"
    }
   ],
   "source": [
    "t_model.fit(X_train_model,y_train_model)"
   ]
  },
  {
   "cell_type": "code",
   "execution_count": null,
   "metadata": {},
   "outputs": [],
   "source": [
    "bgr_model.fit(X_train_model,y_train_model)"
   ]
  },
  {
   "cell_type": "markdown",
   "metadata": {},
   "source": [
    "## 5.验证模型\n",
    "   -  （留出法）把测试数据分为两部分，一部分做训练，另一部分做测试\n",
    "   -  （交叉验证）评估结果\n",
    "   -  自助采样，有放回的抽取 1/e  36.8% 可能不出现\n",
    "   "
   ]
  },
  {
   "cell_type": "markdown",
   "metadata": {},
   "source": [
    "### 评估指标\n",
    "   - 分类问题：错误率和精度  二分类： 准确率和召回率，预测的正例中，我找到正的； 真实为正的我找到了多少。AUC\n",
    "   - 回归问题：平均误差，均方误差，方根误差，R平方 ，MAE  MSE  RMSE  R平方\n",
    "   \n",
    "   "
   ]
  },
  {
   "cell_type": "markdown",
   "metadata": {},
   "source": [
    "####  留出法 拆分测试数据作为验证数据"
   ]
  },
  {
   "cell_type": "code",
   "execution_count": 265,
   "metadata": {},
   "outputs": [],
   "source": [
    "## 参数搜索和评价的\n",
    "from sklearn.model_selection import GridSearchCV,cross_val_score,StratifiedKFold,train_test_split\n",
    "from sklearn.metrics import mean_absolute_error,mean_squared_error\n",
    "from sklearn.tree import DecisionTreeRegressor "
   ]
  },
  {
   "cell_type": "code",
   "execution_count": 299,
   "metadata": {},
   "outputs": [],
   "source": [
    "## Split data with val\n",
    "X_train,X_val,y_train,y_val = train_test_split(X_train_data,np.log1p(y_train_data),test_size=0.3)"
   ]
  },
  {
   "cell_type": "code",
   "execution_count": 305,
   "metadata": {},
   "outputs": [
    {
     "name": "stdout",
     "output_type": "stream",
     "text": [
      "0.2114082734161959\n"
     ]
    }
   ],
   "source": [
    "t_model = DecisionTreeRegressor(max_leaf_nodes = 400,random_state = 0)\n",
    "t_model.fit(X_train,y_train)\n",
    "\n",
    "\n",
    "# validation\n",
    "predicted_num = t_model.predict(X_val)\n",
    "#predicted_num = np.expm1(t_model.predict(X_val))\n",
    "\n",
    "print (mean_absolute_error(y_val,predicted_num))\n"
   ]
  },
  {
   "cell_type": "code",
   "execution_count": null,
   "metadata": {},
   "outputs": [],
   "source": [
    "test_scores=[]\n",
    "params = [300,350,400,450,500,550,600,650,700,750,1000]\n",
    "def getmea(max_leaf_nodes,mea_train_x,mea_test_x,mea_train_y,mea_test_y):\n",
    "    model = DecisionTreeRegressor(max_leaf_nodes = max_leaf_nodes,random_state = 0)\n",
    "    model.fit(mea_train_x,mea_train_y)\n",
    "    predicted_test = model.predict(mea_test_x)\n",
    "    return mean_absolute_error(mea_test_y,predicted_test)\n",
    "\n",
    "for max_leaf_nodes in params:\n",
    "    mea = getmea(max_leaf_nodes,X_train,X_val,y_train,y_val)\n",
    "    test_scores.append(mea)\n",
    "    #print(\"Max_leaf_nodes: %d ,mea: %f\" %(max_leaf_nodes,mea))\n"
   ]
  },
  {
   "cell_type": "code",
   "execution_count": null,
   "metadata": {},
   "outputs": [],
   "source": [
    "\n",
    "plt.plot(params, test_scores)\n",
    "plt.title(\"max_leaf_nodes vs CV Error\");"
   ]
  },
  {
   "cell_type": "markdown",
   "metadata": {},
   "source": [
    "#### 10折交叉验证"
   ]
  },
  {
   "cell_type": "code",
   "execution_count": 279,
   "metadata": {},
   "outputs": [],
   "source": [
    "\n",
    "## 5折交叉验证方式\n",
    "sk=StratifiedKFold(n_splits=10,shuffle=True,random_state=0)\n",
    "\n",
    "scores_train = []\n",
    "scores = []\n",
    "for train_ind,val_ind in sk.split(X_train_data,y_train_data):\n",
    "    \n",
    "    train_x=X_train_data.iloc[train_ind].values\n",
    "    train_y=y_train_data.iloc[train_ind]\n",
    "    val_x=X_train_data.iloc[val_ind].values\n",
    "    val_y=y_train_data.iloc[val_ind]\n",
    "    \n",
    "    ##ridge.fit(train_x,train_y)\n",
    "\n",
    "    #pred_train_ridge=ridge.predict(train_x)\n",
    "    #pred_ridge=ridge.predict(val_x)\n",
    "    \n",
    "    pred_train_ridge=  np.expm1(ridge.predict(train_x))\n",
    "    pred_ridge = np.expm1(ridge.predict(val_x))\n",
    "    \n",
    "    score_train = mean_absolute_error(train_y,pred_train_ridge)\n",
    "    scores_train.append(score_train)\n",
    "    score = mean_absolute_error(val_y,pred_ridge)\n",
    "    scores.append(score)\n"
   ]
  },
  {
   "cell_type": "code",
   "execution_count": 280,
   "metadata": {},
   "outputs": [
    {
     "name": "stdout",
     "output_type": "stream",
     "text": [
      "Train mae: 948.8578816807598\n",
      "Val mae 934.2433814587573\n"
     ]
    }
   ],
   "source": [
    "\n",
    "print('Train mae:',np.mean(score_train))\n",
    "print('Val mae',np.mean(scores))"
   ]
  },
  {
   "cell_type": "markdown",
   "metadata": {},
   "source": [
    "## 6.预测结果"
   ]
  },
  {
   "cell_type": "code",
   "execution_count": 315,
   "metadata": {},
   "outputs": [],
   "source": [
    "#y_ridge =ridge.predict(X_test)\n",
    "#y_rf = rf.predict(X_test)\n",
    "\n",
    "y_ridge = np.expm1(ridge.predict(X_test))\n",
    "y_rf = np.expm1(rf.predict(X_test))\n",
    "y_t = np.expm1(t_model.predict(X_test))\n",
    "\n",
    "y_bgr = np.expm1(bgr_model.predict(X_test))\n",
    "\n",
    "y_final = ( y_ridge + y_rf + y_t + y_bgr ) / 4\n",
    "\n"
   ]
  },
  {
   "cell_type": "code",
   "execution_count": null,
   "metadata": {},
   "outputs": [],
   "source": []
  },
  {
   "cell_type": "markdown",
   "metadata": {},
   "source": [
    "## 7. 保存预测结果和模型"
   ]
  },
  {
   "cell_type": "code",
   "execution_count": 277,
   "metadata": {},
   "outputs": [],
   "source": [
    "\n",
    "int_cnt = np.around(y_final)"
   ]
  },
  {
   "cell_type": "code",
   "execution_count": 278,
   "metadata": {},
   "outputs": [],
   "source": [
    "result = pd.DataFrame({'SaleID':X_test.index,'price':int_cnt})\n",
    "result.to_csv(path+'/used_car_sample_submit.csv',index = False,header = True,columns = ['SaleID','price'])\n",
    "\n",
    "#result.to_csv('result.txt',index=False,header=False,columns = ['date','cnt'],sep='\\t')\n"
   ]
  },
  {
   "cell_type": "code",
   "execution_count": null,
   "metadata": {},
   "outputs": [],
   "source": [
    "from sklearn.externals import joblib"
   ]
  },
  {
   "cell_type": "code",
   "execution_count": null,
   "metadata": {},
   "outputs": [],
   "source": [
    "#save model\n",
    "joblib.dump(ridge,'ridge.model')\n",
    "#load model\n",
    "model = joblib.load('ridge.model')"
   ]
  },
  {
   "cell_type": "code",
   "execution_count": null,
   "metadata": {},
   "outputs": [],
   "source": []
  }
 ],
 "metadata": {
  "kernelspec": {
   "display_name": "Python 3",
   "language": "python",
   "name": "python3"
  },
  "language_info": {
   "codemirror_mode": {
    "name": "ipython",
    "version": 3
   },
   "file_extension": ".py",
   "mimetype": "text/x-python",
   "name": "python",
   "nbconvert_exporter": "python",
   "pygments_lexer": "ipython3",
   "version": "3.5.6"
  }
 },
 "nbformat": 4,
 "nbformat_minor": 2
}
