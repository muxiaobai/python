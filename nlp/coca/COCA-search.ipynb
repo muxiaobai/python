{
 "cells": [
  {
   "cell_type": "code",
   "execution_count": null,
   "metadata": {},
   "outputs": [],
   "source": [
    "with open (all_proxy_ip,'r') as all_proxy_file:\n",
    "    content = all_proxy_file.read().splitlines()\n",
    "    for proxy_str in content:\n",
    "        if verifyProxy({proxy_str.split(\"://\")[0]:proxy_str.split(\"://\")[1]},url):\n",
    "            able_ip_list.append(proxy_str)"
   ]
  },
  {
   "cell_type": "code",
   "execution_count": null,
   "metadata": {},
   "outputs": [],
   "source": [
    "url =\"https://www.english-corpora.org/coca/\"\n",
    "use_proxy=\"coca/use_proxy.txt\"\n"
   ]
  },
  {
   "cell_type": "code",
   "execution_count": null,
   "metadata": {},
   "outputs": [],
   "source": [
    "post\n",
    "\n",
    "https://www.english-corpora.org/coca/x2.asp"
   ]
  },
  {
   "cell_type": "code",
   "execution_count": null,
   "metadata": {},
   "outputs": [],
   "source": [
    "import time\n",
    "import requests\n",
    "from lxml import etree\n",
    "\n",
    "def COCA_Content_List(url):\n",
    "    headers = {\n",
    "       # \"Referer\":\"https://movie.douban.com/subject/26266893/?from=showing\",\n",
    "        \"User-Agent\":\"Mozilla/5.0 (Windows NT 10.0; WOW64) AppleWebKit/537.36 (KHTML, like Gecko) Chrome/63.0.3239.26 Safari/537.36 Core/1.63.6788.400 QQBrowser/10.3.2864.400\",\n",
    "    #            'Cookie':'bid=dBLxsRMMRbs; __utmc=30149280; __utmc=223695111; ll=\"118184\"; push_noty_num=0; push_doumail_num=0; __utmv=30149280.19232; _vwo_uuid_v2=DD9A4D81803D3AC581031A21E0B6F1628|eb32f81d72deea36fe07c889241a8846; _pk_ses.100001.4cf6=*; ap_v=0,6.0; __utma=30149280.219998368.1550975340.1550979553.1550999110.3; __utmz=30149280.1550999110.3.2.utmcsr=movie.douban.com|utmccn=(referral)|utmcmd=referral|utmcct=/subject/26266893/reviews; dbcl2=\"192325248:8Qm6nZGk5Co\"; ck=n3HL; __utma=223695111.1281168398.1550975340.1550979553.1550999422.3; __utmb=223695111.0.10.1550999422; __utmz=223695111.1550999422.3.2.utmcsr=accounts.douban.com|utmccn=(referral)|utmcmd=referral|utmcct=/passport/login; __utmt=1; gr_user_id=95b206b3-7bf4-40ca-94d8-14f39be020e1; gr_session_id_22c937bbd8ebd703f2d8e9445f7dfd03=1b9e9583-a672-486f-8b8d-7c6a6ba6294b; gr_cs1_1b9e9583-a672-486f-8b8d-7c6a6ba6294b=user_id%3A1; gr_session_id_22c937bbd8ebd703f2d8e9445f7dfd03_1b9e9583-a672-486f-8b8d-7c6a6ba6294b=true; __utmt_douban=1; __utmb=30149280.7.10.1550999110; _pk_id.100001.4cf6=138e377200b95457.1550975332.3.1551000296.1550979600.'\n",
    "    }\n",
    "    proxy_list = []\n",
    "    print('Content查询:第i页')\n",
    "    url = 'https://www.english-corpora.org/coca/x3.asp?xx=1&w11=xi%27%27an&r='\n",
    "    response = requests.get(url,headers = headers,timeout=5)\n",
    "    response.raise_for_status()\n",
    "    if response.status_code == 200:\n",
    "        page = response.content.decode(\"gb2312\")\n",
    "        html = etree.fromstring(page,parser=etree.HTMLParser(encoding=response.apparent_encoding))\n",
    "        for i in range(1,15):\n",
    "            protocol = html.xpath('normalize-space(//*[@id=\"list\"]/table/tbody/tr[%d]/td[4]/text())'%i)\n",
    "            host = html.xpath('normalize-space(//*[@id=\"list\"]/table/tbody/tr[%d]/td[1]/text())'%i)\n",
    "            port = html.xpath('normalize-space(//*[@id=\"list\"]/table/tbody/tr[%d]/td[2]/text())'%i)\n",
    "            #print('%s://%s:%s' %(protocol.lower(),host,port))\n",
    "            proxy_list.append('%s://%s:%s' %(protocol.lower(),host,port))\n",
    "    return proxy_list"
   ]
  },
  {
   "cell_type": "markdown",
   "metadata": {},
   "source": [
    "\n",
    "\n",
    "  点击xian   https://www.english-corpora.org/coca/x3.asp?xx=1&w11=xi%27%27an&r="
   ]
  },
  {
   "cell_type": "code",
   "execution_count": null,
   "metadata": {},
   "outputs": [],
   "source": [
    "# 列表\n",
    "\n",
    "//*[@id=\"zabba\"]/table[2]\n",
    "\n",
    "# 获取tr"
   ]
  },
  {
   "cell_type": "markdown",
   "metadata": {},
   "source": [
    "##  点击列表\n",
    "####  https://www.english-corpora.org/coca/x4.asp?t=4170409&amp;ID=800027469"
   ]
  },
  {
   "cell_type": "code",
   "execution_count": null,
   "metadata": {},
   "outputs": [],
   "source": []
  }
 ],
 "metadata": {
  "kernelspec": {
   "display_name": "Python 3",
   "language": "python",
   "name": "python3"
  },
  "language_info": {
   "codemirror_mode": {
    "name": "ipython",
    "version": 3
   },
   "file_extension": ".py",
   "mimetype": "text/x-python",
   "name": "python",
   "nbconvert_exporter": "python",
   "pygments_lexer": "ipython3",
   "version": "3.5.6"
  }
 },
 "nbformat": 4,
 "nbformat_minor": 2
}
