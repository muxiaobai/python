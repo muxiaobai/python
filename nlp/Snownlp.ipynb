{
 "cells": [
  {
   "cell_type": "markdown",
   "metadata": {},
   "source": [
    "\n",
    "#### 爬虫过程\n",
    "输入电影的电影名、id或链接，模拟登陆爬取五百条短评，存到一个txt文件里，利用jieba、wordcloud和pyplot生成词云，利用Snownlp和pyplot对短评进行情感分析并展示。"
   ]
  },
  {
   "cell_type": "code",
   "execution_count": 1,
   "metadata": {},
   "outputs": [],
   "source": []
  },
  {
   "cell_type": "code",
   "execution_count": 12,
   "metadata": {},
   "outputs": [
    {
     "name": "stdout",
     "output_type": "stream",
     "text": [
      "27119724 小丑 9.0\n",
      "26709258 罗小黑战记 8.2\n",
      "30359970 鬼镇事件簿 6.4\n",
      "30320204 完美男人 6.3\n",
      "27002647 惊魂鬼屋 6.3\n",
      "30372377 续命之徒：绝命毒师电影 8.1\n",
      "30235440 小小的愿望 5.1\n",
      "26794435 哪吒之魔童降世 8.5\n",
      "27010768 寄生虫 8.7\n",
      "27180759 送我上青云 7.2\n",
      "30299356 友情以上 6.3\n",
      "3882427 我在雨中等你 8.1\n",
      "27115166 好小子们 7.2\n",
      "30390144 别告诉她 7.6\n",
      "27133569 小丑回魂2 6.4\n",
      "26884354 狮子王 7.4\n",
      "25779217 诛仙 Ⅰ 4.9\n",
      "27166976 安娜 7.7\n",
      "25986662 疯狂的外星人 6.4\n",
      "27110296 无名之辈 8.1\n",
      "30211551 恶人传 7.7\n",
      "30221757 烈火英雄 6.6\n",
      "26266893 流浪地球 7.9\n",
      "30282387 银河补习班 6.3\n",
      "30208010 名侦探柯南：绀青之拳 6.0\n",
      "30163509 飞驰人生 6.9\n",
      "30225296 柳烈的音乐专辑 7.9\n",
      "30376977 小Q 6.7\n",
      "30481973 决胜时刻 6.7\n",
      "30143698 兰开斯特之王 6.3\n",
      "6850547 玩具总动员4 8.7\n",
      "26278747 在黑暗中讲述的恐怖故事 6.1\n",
      "3878007 海王 7.6\n",
      "30210691 极限逃生 7.6\n",
      "26715636 地久天长 8.0\n",
      "30331149 白蛇：缘起 7.9\n",
      "26374197 蜘蛛侠：平行宇宙 8.6\n",
      "27035542 花生酱猎鹰 7.6\n",
      "1652592 阿丽塔：战斗天使 7.5\n",
      "26863060 愤怒的小鸟2 7.1\n",
      "30288638 仲夏夜惊魂 6.5\n",
      "27594856 金发男子 8.0\n",
      "27163278 速度与激情：特别行动 6.3\n",
      "27088750 我身体里的那个家伙 7.2\n",
      "26810068 冷血追击 6.7\n",
      "26931786 蜘蛛侠：英雄远征 7.8\n",
      "26935296 花椒之味 7.2\n",
      "26909790 疾速备战 7.8\n",
      "26835471 大侦探皮卡丘 6.5\n",
      "30249076 坏家伙们 6.5\n",
      "26147417 神奇动物：格林德沃之罪 7.1\n",
      "26667010 X战警：黑凤凰 5.8\n",
      "30143333 我的一级兄弟 8.3\n",
      "26891256 阿拉丁 7.6\n",
      "27074316 一条狗的使命2 6.9\n",
      "20438964 无敌破坏王2：大闹互联网 8.1\n",
      "26100958 复仇者联盟4：终局之战 8.5\n",
      "27195204 卢斯 7.6\n",
      "26848167 爱宠大机密2 7.0\n",
      "26394152 大黄蜂 7.0\n",
      "26816090 沉默的证人 5.3\n",
      "30384019 看不见的客人(意大利版) 9.1\n",
      "26419635 高草丛中 6.3\n",
      "30423193 使徒行者2：谍影行动 6.3\n",
      "26331839 保持沉默 5.4\n",
      "27597250 极限职业 7.7\n",
      "33404726 小委托人 8.0\n",
      "30198539 痛苦与荣耀 8.6\n",
      "30164448 海市蜃楼 7.8\n",
      "30135113 骡子 7.9\n",
      "19899707 驯龙高手3 7.4\n",
      "27138615 自卫的艺术 7.3\n",
      "4840388 新喜剧之王 5.7\n",
      "27109679 密室逃生 7.2\n",
      "30337760 在无爱之森呐喊 6.7\n",
      "27186353 鲨海逃生 5.5\n",
      "30256006 再见，嘴唇 7.0\n",
      "30174393 城市猎人：新宿 PRIVATE EYES 6.9\n",
      "30249161 哆啦A梦：大雄的月球探险记 7.4\n",
      "26665875 老千3：独眼杰克 6.3\n",
      "30391289 科林尼案 7.6\n",
      "30366084 断裂 6.7\n",
      "19971676 黑衣人：全球追缉 5.6\n",
      "30171425 扫毒2天地对决 6.0\n",
      "26213252 惊奇队长 6.9\n",
      "27005769 禁闭男童 6.3\n",
      "30394807 蜡笔小新：新婚旅行飓风之遗失的野原广志 8.3\n",
      "26868553 深夜食堂 5.1\n",
      "25890017 哥斯拉2：怪兽之王 6.3\n",
      "27663742 老师·好 6.7\n",
      "30377703 来电狂响 5.8\n",
      "2244426 雷霆沙赞！ 6.3\n",
      "30184555 铤而走险 6.1\n",
      "26816076 “大”人物 6.5\n",
      "26718799 官方机密 7.6\n",
      "26367602 龙牌之谜 3.6\n",
      "30256796 女王的柯基 5.7\n",
      "27176742 驭风男孩 8.1\n",
      "26825688 姐姐 6.4\n",
      "27042467 摇摆狂潮 8.2\n"
     ]
    }
   ],
   "source": [
    "import json\n",
    "import requests\n",
    "# 定义请求url\n",
    "url = \"https://movie.douban.com/j/search_subjects\"\n",
    "# 定义请求头\n",
    "headers = {\n",
    "    \"User-Agent\": \"Mozilla/5.0 (Macintosh; Intel Mac OS X 10_14_0) AppleWebKit/537.36 (KHTML, like Gecko) Chrome/70.0.3538.110 Safari/537.36\"\n",
    "}\n",
    "# 循环构建请求参数并且发送请求\n",
    "for page_start in range(0, 100, 20):\n",
    "    params = {\n",
    "        \"type\": \"movie\",\n",
    "        \"tag\": \"热门\",\n",
    "        \"sort\": \"recommend\",\n",
    "        \"page_limit\": \"20\",\n",
    "        \"page_start\": page_start\n",
    "    }\n",
    "    response = requests.get(\n",
    "        url=url,\n",
    "        headers=headers,\n",
    "        params=params\n",
    "    )\n",
    "    # 方式一:直接转换json方法\n",
    "    # results = response.json()\n",
    "    # 方式二: 手动转换\n",
    "    # 获取字节串\n",
    "    content = response.content\n",
    "    # 转换成字符串\n",
    "    string = content.decode('utf-8')\n",
    "    # 把字符串转成python数据类型\n",
    "    results = json.loads(string)\n",
    "    # 解析结果\n",
    "    for movie in results[\"subjects\"]:\n",
    "        print(movie[\"id\"],movie[\"title\"], movie[\"rate\"])"
   ]
  },
  {
   "cell_type": "code",
   "execution_count": null,
   "metadata": {},
   "outputs": [],
   "source": [
    "# 电影链接\n",
    "# url = https://movie.douban.com/subject/${movieId}\n",
    " # 流浪地球  26266893"
   ]
  },
  {
   "cell_type": "code",
   "execution_count": 1,
   "metadata": {},
   "outputs": [],
   "source": [
    "import requests\n",
    "\n",
    "# 生成Session对象，用于保存Cookie\n",
    "s = requests.Session()\n",
    "def login_douban():\n",
    "    \"\"\"\n",
    "    登录豆瓣\n",
    "    :return:\n",
    "    \"\"\"\n",
    "    # 登录URL\n",
    "    login_url = 'https://accounts.douban.com/j/mobile/login/basic'\n",
    "    # 请求头\n",
    "    headers = {'user-agent': 'Mozilla/5.0', 'Referer': 'https://accounts.douban.com/passport/login?source=main'}\n",
    "    # 传递用户名和密码\n",
    "    data = {'name': '18576418732',\n",
    "            'password': 'zpf123456789',\n",
    "            'remember': 'false'}\n",
    "    try:\n",
    "        r = s.post(login_url, headers=headers, data=data)\n",
    "        r.raise_for_status()\n",
    "    except:\n",
    "        print('登录请求失败')\n",
    "        return 0\n",
    "    # 打印请求结果\n",
    "    print(r.text)\n",
    "    return 1"
   ]
  },
  {
   "cell_type": "code",
   "execution_count": 2,
   "metadata": {},
   "outputs": [
    {
     "name": "stdout",
     "output_type": "stream",
     "text": [
      "{\"status\":\"success\",\"message\":\"success\",\"description\":\"处理成功\",\"payload\":{\"account_info\":{\"name\":\"大鹏哥看世界\",\"weixin_binded\":false,\"phone\":\"18576418732\",\"avatar\":{\"medium\":\"https://img3.doubanio.com\\/icon\\/up146669904-1.jpg\",\"median\":\"https://img3.doubanio.com\\/icon\\/us146669904-1.jpg\",\"large\":\"https://img3.doubanio.com\\/icon\\/ul146669904-1.jpg\",\"raw\":\"https://img3.doubanio.com\\/icon\\/ur146669904-1.jpg\",\"small\":\"https://img3.doubanio.com\\/icon\\/u146669904-1.jpg\",\"icon\":\"https://img3.doubanio.com\\/icon\\/ui146669904-1.jpg\"},\"id\":\"146669904\",\"uid\":\"146669904\"}}}\n"
     ]
    },
    {
     "data": {
      "text/plain": [
       "1"
      ]
     },
     "execution_count": 2,
     "metadata": {},
     "output_type": "execute_result"
    }
   ],
   "source": [
    "login_douban()"
   ]
  },
  {
   "cell_type": "code",
   "execution_count": null,
   "metadata": {},
   "outputs": [],
   "source": [
    "# 影评链接\n",
    "# https://movie.douban.com/subject/${movieId}/reviews?start=20"
   ]
  },
  {
   "cell_type": "code",
   "execution_count": 3,
   "metadata": {},
   "outputs": [],
   "source": [
    "# https://www.xicidaili.com/\n",
    " \n",
    "#获取网页源代码的框架\n",
    "def getHtml(URL):\n",
    "    try:\n",
    "        headers = {\n",
    "           # \"Referer\":\"https://movie.douban.com/subject/26266893/?from=showing\",\n",
    "            \"User-Agent\":\"Mozilla/5.0 (Windows NT 10.0; WOW64) AppleWebKit/537.36 (KHTML, like Gecko) Chrome/63.0.3239.26 Safari/537.36 Core/1.63.6788.400 QQBrowser/10.3.2864.400\",\n",
    "#            'Cookie':'bid=dBLxsRMMRbs; __utmc=30149280; __utmc=223695111; ll=\"118184\"; push_noty_num=0; push_doumail_num=0; __utmv=30149280.19232; _vwo_uuid_v2=DD9A4D81803D3AC581031A21E0B6F1628|eb32f81d72deea36fe07c889241a8846; _pk_ses.100001.4cf6=*; ap_v=0,6.0; __utma=30149280.219998368.1550975340.1550979553.1550999110.3; __utmz=30149280.1550999110.3.2.utmcsr=movie.douban.com|utmccn=(referral)|utmcmd=referral|utmcct=/subject/26266893/reviews; dbcl2=\"192325248:8Qm6nZGk5Co\"; ck=n3HL; __utma=223695111.1281168398.1550975340.1550979553.1550999422.3; __utmb=223695111.0.10.1550999422; __utmz=223695111.1550999422.3.2.utmcsr=accounts.douban.com|utmccn=(referral)|utmcmd=referral|utmcct=/passport/login; __utmt=1; gr_user_id=95b206b3-7bf4-40ca-94d8-14f39be020e1; gr_session_id_22c937bbd8ebd703f2d8e9445f7dfd03=1b9e9583-a672-486f-8b8d-7c6a6ba6294b; gr_cs1_1b9e9583-a672-486f-8b8d-7c6a6ba6294b=user_id%3A1; gr_session_id_22c937bbd8ebd703f2d8e9445f7dfd03_1b9e9583-a672-486f-8b8d-7c6a6ba6294b=true; __utmt_douban=1; __utmb=30149280.7.10.1550999110; _pk_id.100001.4cf6=138e377200b95457.1550975332.3.1551000296.1550979600.'\n",
    "        }\n",
    "        proxies = {\n",
    "            'http': '113.120.37.239:9999',\n",
    "            'http': '120.83.121.160:9999'\n",
    "         }\n",
    "        response = s.get(URL,headers = headers,proxies=proxies,timeout=5)\n",
    "        response.raise_for_status()\n",
    "        response.encoding = response.apparent_encoding\n",
    "        return response.content.decode(\"utf-8\")\n",
    "    except:\n",
    "        return \"爬取失败\"\n"
   ]
  },
  {
   "cell_type": "code",
   "execution_count": 4,
   "metadata": {},
   "outputs": [],
   "source": [
    "\n",
    "from lxml import etree\n",
    "import time\n",
    "#获取评论的URL并且获得用户名，用户评分，用户所在地区以及用户加入豆瓣时间\n",
    "def get_all_info(page): \n",
    "    #把这一页的所有信息存入一个列表，便于后续的存入数据库\n",
    "    all_info = []\n",
    "    html = etree.HTML(page)\n",
    "    #获取评论的URL\n",
    "    com_urls = html.xpath(\"//a[@class = 'reply ']/@href\")\n",
    "    #获取作者的URL\n",
    "    user_url = html.xpath(\"//header[@class = 'main-hd']//a[1]/@href\") \n",
    "    #在获取评论的页面中获取用户评分\n",
    "    user_score = html.xpath(\"//header[@class = 'main-hd']//span[1]/@title\")\n",
    "    # 在获取评论的页面中获取用户发布时间\n",
    "    release_time = html.xpath(\"//header[@class = 'main-hd']//span[2]/text()\")\n",
    "    if len(user_url) != len(user_score):\n",
    "        print(\"这个界面出现了问题，直接爬取下一个界面\")\n",
    "        return False\n",
    " \n",
    "    for i in range(len(user_url)):\n",
    "        #print(\"正在爬取这一页中的第{}个用户信息\".format(i+1))\n",
    " \n",
    "        #将所有的信息存入字典\n",
    "        all_dict = {}\n",
    " \n",
    "        #获取用户的评论\n",
    "        res = getHtml(com_urls[i])\n",
    "        time.sleep(1)\n",
    "        html = etree.HTML(res)\n",
    "        comments = html.xpath(\"//div[@id = 'link-report']//p/text()\")\n",
    "        new_comment = \"\".join(comments)\n",
    "        #获取用户的基本信息\n",
    "        res = getHtml(user_url[i])\n",
    "        time.sleep(1)\n",
    "        new_html = etree.HTML(res)\n",
    "        #获取用户名\n",
    "        user_name = new_html.xpath(\"//div[@class = 'info']//h1/text()\")[0].strip()\n",
    "        #获取用户的创建时间\n",
    "        user_creat_time = new_html.xpath(\"//div[@class = 'user-info']//div[@class = 'pl']/text()\")[1].strip()\n",
    "        #获取用户的地址\n",
    "        try:\n",
    "            user_addr = new_html.xpath(\"//div[@class = 'user-info']//a/text()\")[0].strip()\n",
    "        except:\n",
    "            user_addr = \"用户没有填写\"\n",
    " \n",
    "        #把所有的数据先存入字典\n",
    "        all_dict[\"user_name\"] = user_name\n",
    "        all_dict[\"user_creat_time\"] = user_creat_time\n",
    "        all_dict[\"user_addr\"] = user_addr\n",
    "        all_dict[\"user_score\"] = user_score[i]\n",
    "        all_dict[\"new_comment\"] = new_comment\n",
    "        all_dict[\"release_time\"] = release_time[i]\n",
    "        all_info.append(all_dict)\n",
    "        #print(all_dict[\"user_name\"])\n",
    "    return all_info\n"
   ]
  },
  {
   "cell_type": "code",
   "execution_count": 10,
   "metadata": {},
   "outputs": [
    {
     "name": "stdout",
     "output_type": "stream",
     "text": [
      "---------------正在爬取第1页的评论的URL---------------\n",
      "---------------正在爬取第2页的评论的URL---------------\n",
      "---------------正在爬取第3页的评论的URL---------------\n",
      "这个界面出现了问题，直接爬取下一个界面\n"
     ]
    }
   ],
   "source": [
    "for i in range(3):\n",
    "    print(\"---------------正在爬取第{}页的评论的URL---------------\".format(i+1))\n",
    "    URL = \"https://movie.douban.com/subject/26266893/reviews?start=\"+str(i*20)\n",
    "    page = getHtml(URL)\n",
    "    time.sleep(1)\n",
    "    single_data = get_all_info(page)\n",
    "     # 写入文件\n",
    "    with open('snowNLP/result.txt', 'a+', encoding=\"utf-8\") as file:\n",
    "        \n",
    "        if single_data == False:\n",
    "            continue\n",
    "        for item in single_data:\n",
    "            #file.writelines('\\n'.join(item['new_comment']))\n",
    "            file.writelines(item['new_comment'])\n",
    "            \n"
   ]
  },
  {
   "cell_type": "markdown",
   "metadata": {},
   "source": [
    "### 生成词云"
   ]
  },
  {
   "cell_type": "code",
   "execution_count": 11,
   "metadata": {},
   "outputs": [],
   "source": [
    "import jieba\n",
    "import numpy as np\n",
    "from PIL import Image\n",
    "import matplotlib.pyplot as plt\n",
    "from wordcloud import WordCloud\n",
    "\n",
    "def cut_word():\n",
    "    with open('snowNLP/result.txt', 'r', encoding='utf-8') as file:\n",
    "        # 读取文件里面的全部内容\n",
    "        comment_txt = file.read()\n",
    "        # 使用jieba进行分割\n",
    "        wordlist = jieba.cut(comment_txt)\n",
    "        print('***********',wordlist)\n",
    "        wl = \"/\".join(wordlist)\n",
    "        # print(wl)\n",
    "        return wl\n",
    "\n",
    "\n",
    "def create_word_cloud():\n",
    "    # 设置词云形状图片,numpy+PIL方式读取图片\n",
    "    wc_mask = np.array(Image.open('snowNLP/background.jpg'))\n",
    "    # 数据清洗词列表\n",
    "    stop_words = ['就是', '不是', '但是', '还是', '只是', '这样','可以','因为', '这个', '一个', '什么', '电影', '没有']\n",
    "    # 设置词云的一些配置，如：字体，背景色，词云形状，大小,生成词云对象\n",
    "    wc = WordCloud(mask=wc_mask, background_color=\"white\", stopwords=stop_words, max_words=50, scale=4,\n",
    "                   max_font_size=50, random_state=42,font_path=\"C:/Windows/Fonts/STFANGSO.TTF\")\n",
    "    # 生成词云\n",
    "    wc.generate(cut_word())\n",
    "\n",
    "    # 在只设置mask的情况下,你将会得到一个拥有图片形状的词云\n",
    "    # 开始画图\n",
    "    plt.imshow(wc, interpolation=\"bilinear\")\n",
    "    # 为云图去掉坐标轴\n",
    "    plt.axis(\"off\")\n",
    "    plt.figure()\n",
    "    plt.show()"
   ]
  },
  {
   "cell_type": "code",
   "execution_count": 12,
   "metadata": {},
   "outputs": [
    {
     "name": "stdout",
     "output_type": "stream",
     "text": [
      "*********** <generator object Tokenizer.cut at 0x000001B2FA4BE5C8>\n"
     ]
    },
    {
     "data": {
      "image/png": "[encoded data removed]",
      "text/plain": [
       "<Figure size 432x288 with 1 Axes>"
      ]
     },
     "metadata": {
      "needs_background": "light"
     },
     "output_type": "display_data"
    },
    {
     "data": {
      "text/plain": [
       "<Figure size 432x288 with 0 Axes>"
      ]
     },
     "metadata": {},
     "output_type": "display_data"
    }
   ],
   "source": [
    "create_word_cloud()"
   ]
  },
  {
   "cell_type": "markdown",
   "metadata": {},
   "source": [
    "### 生成情感分析表"
   ]
  },
  {
   "cell_type": "code",
   "execution_count": 8,
   "metadata": {},
   "outputs": [],
   "source": [
    "from snownlp import SnowNLP\n",
    "from matplotlib.font_manager import FontProperties\n",
    "\n",
    "def data_show():\n",
    "    with open('snowNLP/result.txt', 'r', encoding='UTF-8') as f:\n",
    "        list = f.readlines()\n",
    "        sentimentslist = []\n",
    "        for i in list:\n",
    "            s = SnowNLP(i)\n",
    "            sentimentslist.append(s.sentiments)\n",
    "        print(sentimentslist)\n",
    "        print(len(sentimentslist))\n",
    "        myfont = FontProperties(fname='C:/Windows/Fonts/STFANGSO.TTF')\n",
    "        plt.hist(sentimentslist, bins=10, facecolor='g')\n",
    "        plt.xlabel('情感概率', fontproperties= myfont)\n",
    "        plt.ylabel('数量', fontproperties= myfont)\n",
    "        plt.title('情感分析', fontproperties= myfont)\n",
    "        plt.show()"
   ]
  },
  {
   "cell_type": "code",
   "execution_count": 13,
   "metadata": {},
   "outputs": [
    {
     "name": "stdout",
     "output_type": "stream",
     "text": [
      "[1.0, 0.5262327818078083, 1.0, 0.5262327818078083, 1.0, 1.0, 0.5262327818078083, 0.8595057665992633, 0.5262327818078083, 0.9239000699053471, 0.5262327818078083, 1.0, 0.5262327818078083, 0.9999983587244758, 1.0, 1.0, 0.5262327818078083, 0.5262327818078083, 0.9999998226180963, 0.9885437938739827, 0.9999999980650562, 0.9999999593246488, 1.0, 1.0, 0.5715428546715309, 0.9999999999690419, 1.0, 1.0, 0.5262327818078083, 1.0, 1.0, 0.002092956405004398, 0.6586127333903321, 0.9398890659145469, 0.9999972169611155, 0.9999999645042831, 1.0, 0.5262327818078083, 1.0, 0.5262327818078083, 1.0, 1.0, 0.5262327818078083, 0.8595057665992633, 0.5262327818078083, 0.9239000699053471, 0.5262327818078083, 1.0, 0.5262327818078083, 0.9999983587244758, 1.0, 1.0, 0.5262327818078083, 0.5262327818078083, 0.9999998226180963, 0.9885437938739827, 0.9999999980650562, 0.9999999593246488, 1.0, 1.0, 0.5715428546715309, 0.9999999999690419, 1.0, 1.0, 0.5262327818078083, 1.0, 1.0, 0.002092956405004398, 0.6586127333903321, 0.9398890659145469, 0.9999972169611155, 0.9999999645042831, 1.0, 1.0, 1.0, 0.9999999998827436, 0.9412021617137838, 0.9934183247170083, 0.08776502374766726, 0.8521378534890771, 0.9999997687947458, 0.9998972529839424, 1.0, 0.5262327818078083, 0.9977398878869158, 0.5262327818078083, 0.999790191764626, 0.5262327818078083, 0.9999712874453, 0.5262327818078083, 0.9999999999999281, 0.5262327818078083, 0.9999999999393747, 0.5262327818078083, 1.0, 0.5262327818078083, 0.9999999964387667, 0.5262327818078083, 0.9999999994941497, 0.5262327818078083, 1.0, 0.5262327818078083, 1.0, 0.5262327818078083, 0.5990635270171565, 0.5262327818078083, 1.0, 0.5262327818078083, 0.2978187150557621, 0.5262327818078083, 0.9999999937238857, 0.5262327818078083, 0.5262327818078083, 0.9999905560557145, 0.5262327818078083, 0.20078685745807712, 0.5262327818078083, 1.0, 0.5262327818078083, 1.0, 0.5262327818078083, 1.0, 1.0, 0.5262327818078083, 0.8595057665992633, 0.5262327818078083, 0.9239000699053471, 0.5262327818078083, 1.0, 0.5262327818078083, 0.9999983587244758, 1.0, 1.0, 0.5262327818078083, 0.5262327818078083, 0.9999998226180963, 0.9885437938739827, 0.9999999980650562, 0.9999999593246488, 1.0, 1.0, 0.5715428546715309, 0.9999999999690419, 1.0, 1.0, 0.5262327818078083, 1.0, 1.0, 0.002092956405004398, 0.6586127333903321, 0.9398890659145469, 0.9999972169611155, 0.9999999645042831, 1.0, 1.0, 1.0, 0.9999999998827436, 0.9412021617137838, 0.9934183247170083, 0.08776502374766726, 0.8521378534890771, 0.9999997687947458, 0.9998972529839424, 1.0, 0.5262327818078083, 0.9977398878869158, 0.5262327818078083, 0.999790191764626, 0.5262327818078083, 0.9999712874453, 0.5262327818078083, 0.9999999999999281, 0.5262327818078083, 0.9999999999393747, 0.5262327818078083, 1.0, 0.5262327818078083, 0.9999999964387667, 0.5262327818078083, 0.9999999994941497, 0.5262327818078083, 1.0, 0.5262327818078083, 1.0, 0.5262327818078083, 0.5990635270171565, 0.5262327818078083, 1.0, 0.5262327818078083, 0.2978187150557621, 0.5262327818078083, 0.9999999937238857, 0.5262327818078083, 0.5262327818078083, 0.9999905560557145, 0.5262327818078083, 0.20078685745807712, 0.5262327818078083, 1.0]\n",
      "199\n"
     ]
    },
    {
     "data": {
      "image/png": "[encoded data removed]",
      "text/plain": [
       "<Figure size 432x288 with 1 Axes>"
      ]
     },
     "metadata": {
      "needs_background": "light"
     },
     "output_type": "display_data"
    }
   ],
   "source": [
    "data_show()"
   ]
  },
  {
   "cell_type": "code",
   "execution_count": null,
   "metadata": {},
   "outputs": [],
   "source": []
  }
 ],
 "metadata": {
  "kernelspec": {
   "display_name": "Python 3",
   "language": "python",
   "name": "python3"
  },
  "language_info": {
   "codemirror_mode": {
    "name": "ipython",
    "version": 3
   },
   "file_extension": ".py",
   "mimetype": "text/x-python",
   "name": "python",
   "nbconvert_exporter": "python",
   "pygments_lexer": "ipython3",
   "version": "3.5.6"
  }
 },
 "nbformat": 4,
 "nbformat_minor": 2
}
